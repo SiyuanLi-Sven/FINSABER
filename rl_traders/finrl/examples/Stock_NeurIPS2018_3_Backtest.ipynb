{
 "cells": [
  {
   "cell_type": "markdown",
   "metadata": {
    "id": "v7Cycmf3Zbok"
   },
   "source": [
    "# Stock NeurIPS2018 Part 3. Backtest\n",
    "This series is a reproduction of paper *the process in the paper Practical Deep Reinforcement Learning Approach for Stock Trading*. \n",
    "\n",
    "This is the third and last part of the NeurIPS2018 series, introducing how to use use the agents we trained to do backtest, and compare with baselines such as Mean Variance Optimization and DJIA index.\n",
    "\n",
    "Other demos can be found at the repo of [FinRL-Tutorials]((https://github.com/AI4Finance-Foundation/FinRL-Tutorials))."
   ]
  },
  {
   "cell_type": "markdown",
   "metadata": {
    "id": "1oWbj4HgqHBg"
   },
   "source": [
    "# Part 1. Install Packages"
   ]
  },
  {
   "cell_type": "code",
   "execution_count": 102,
   "metadata": {
    "id": "QJgoEYx3p_NG"
   },
   "outputs": [],
   "source": [
    "## install finrl library\n",
    "# !pip install git+https://github.com/AI4Finance-Foundation/FinRL.git"
   ]
  },
  {
   "cell_type": "code",
   "execution_count": 103,
   "metadata": {
    "id": "mqfBOKz-qJYF"
   },
   "outputs": [],
   "source": [
    "import matplotlib.pyplot as plt\n",
    "import numpy as np\n",
    "import pandas as pd\n",
    "from stable_baselines3 import A2C, DDPG, PPO, SAC, TD3\n",
    "\n",
    "from rl_traders.finrl.finrl.agents.stablebaselines3.models import DRLAgent\n",
    "from rl_traders.finrl.finrl.config import INDICATORS, TRAINED_MODEL_DIR\n",
    "from rl_traders.finrl.finrl.meta.env_stock_trading.env_stocktrading import StockTradingEnv\n",
    "from rl_traders.finrl.finrl.meta.preprocessor.yahoodownloader import YahooDownloader\n",
    "\n",
    "%matplotlib inline"
   ]
  },
  {
   "cell_type": "markdown",
   "metadata": {
    "id": "mUF2P4hmqVjh"
   },
   "source": [
    "# Part 2. Backtesting"
   ]
  },
  {
   "cell_type": "markdown",
   "metadata": {
    "id": "BdU6qLsVWDxI"
   },
   "source": [
    "To backtest the agents, upload trade_data.csv in the same directory of this notebook. For Colab users, just upload trade_data.csv to the default directory."
   ]
  },
  {
   "cell_type": "code",
   "execution_count": 104,
   "metadata": {
    "id": "mSjBHn_MZr4U"
   },
   "outputs": [],
   "source": [
    "train = pd.read_csv('train_data.csv')\n",
    "trade = pd.read_csv('trade_data.csv')\n",
    "\n",
    "# If you are not using the data generated from part 1 of this tutorial, make sure \n",
    "# it has the columns and index in the form that could be make into the environment. \n",
    "# Then you can comment and skip the following lines.\n",
    "train = train.set_index(train.columns[0])\n",
    "train.index.names = ['']\n",
    "trade = trade.set_index(trade.columns[0])\n",
    "trade.index.names = ['']"
   ]
  },
  {
   "cell_type": "markdown",
   "metadata": {
    "id": "qu4Ey54b36oL"
   },
   "source": [
    "Then, upload the trained agent to the same directory, and set the corresponding variable to True."
   ]
  },
  {
   "cell_type": "code",
   "execution_count": 105,
   "metadata": {
    "id": "Z_mVZM4IIa55"
   },
   "outputs": [],
   "source": [
    "if_using_a2c = True\n",
    "if_using_ddpg = True\n",
    "if_using_ppo = True\n",
    "if_using_td3 = True\n",
    "if_using_sac = True"
   ]
  },
  {
   "cell_type": "markdown",
   "metadata": {
    "id": "73D4oRqAIkYj"
   },
   "source": [
    "Load the agents"
   ]
  },
  {
   "cell_type": "code",
   "execution_count": 106,
   "metadata": {
    "id": "6CagrX0I36ZN"
   },
   "outputs": [
    {
     "name": "stderr",
     "output_type": "stream",
     "text": [
      "e:\\Development\\Anaconda3\\envs\\trading\\lib\\site-packages\\stable_baselines3\\common\\on_policy_algorithm.py:150: UserWarning: You are trying to run A2C on the GPU, but it is primarily intended to run on the CPU when not using a CNN policy (you are using ActorCriticPolicy which should be a MlpPolicy). See https://github.com/DLR-RM/stable-baselines3/issues/1245 for more info. You can pass `device='cpu'` or `export CUDA_VISIBLE_DEVICES=` to force using the CPU.Note: The model will train, but the GPU utilization will be poor and the training might take longer than on CPU.\n",
      "  warnings.warn(\n",
      "e:\\Development\\Anaconda3\\envs\\trading\\lib\\site-packages\\stable_baselines3\\common\\on_policy_algorithm.py:150: UserWarning: You are trying to run PPO on the GPU, but it is primarily intended to run on the CPU when not using a CNN policy (you are using ActorCriticPolicy which should be a MlpPolicy). See https://github.com/DLR-RM/stable-baselines3/issues/1245 for more info. You can pass `device='cpu'` or `export CUDA_VISIBLE_DEVICES=` to force using the CPU.Note: The model will train, but the GPU utilization will be poor and the training might take longer than on CPU.\n",
      "  warnings.warn(\n"
     ]
    }
   ],
   "source": [
    "trained_a2c = A2C.load(TRAINED_MODEL_DIR + \"/agent_a2c\") if if_using_a2c else None\n",
    "trained_ddpg = DDPG.load(TRAINED_MODEL_DIR + \"/agent_ddpg\") if if_using_ddpg else None\n",
    "trained_ppo = PPO.load(TRAINED_MODEL_DIR + \"/agent_ppo\") if if_using_ppo else None\n",
    "trained_td3 = TD3.load(TRAINED_MODEL_DIR + \"/agent_td3\") if if_using_td3 else None\n",
    "trained_sac = SAC.load(TRAINED_MODEL_DIR + \"/agent_sac\") if if_using_sac else None"
   ]
  },
  {
   "cell_type": "markdown",
   "metadata": {
    "id": "U5mmgQF_h1jQ"
   },
   "source": [
    "### Trading (Out-of-sample Performance)\n",
    "\n",
    "We update periodically in order to take full advantage of the data, e.g., retrain quarterly, monthly or weekly. We also tune the parameters along the way, in this notebook we use the in-sample data from 2009-01 to 2020-07 to tune the parameters once, so there is some alpha decay here as the length of trade date extends. \n",
    "\n",
    "Numerous hyperparameters – e.g. the learning rate, the total number of samples to train on – influence the learning process and are usually determined by testing some variations."
   ]
  },
  {
   "cell_type": "code",
   "execution_count": 107,
   "metadata": {
    "colab": {
     "base_uri": "https://localhost:8080/"
    },
    "id": "4H_w3SaBAkKU",
    "outputId": "fdaed3a7-d3a9-4cde-d194-ee4576057175"
   },
   "outputs": [
    {
     "name": "stdout",
     "output_type": "stream",
     "text": [
      "Stock Dimension: 1, State Space: 11\n"
     ]
    }
   ],
   "source": [
    "stock_dimension = len(trade.tic.unique())\n",
    "state_space = 1 + 2 * stock_dimension + len(INDICATORS) * stock_dimension\n",
    "print(f\"Stock Dimension: {stock_dimension}, State Space: {state_space}\")"
   ]
  },
  {
   "cell_type": "code",
   "execution_count": 108,
   "metadata": {
    "id": "nKNmQMqGAknW"
   },
   "outputs": [],
   "source": [
    "buy_cost_list = sell_cost_list = [0.001] * stock_dimension\n",
    "num_stock_shares = [0] * stock_dimension\n",
    "\n",
    "env_kwargs = {\n",
    "    \"hmax\": 100,\n",
    "    \"initial_amount\": 1000000,\n",
    "    \"num_stock_shares\": num_stock_shares,\n",
    "    \"buy_cost_pct\": buy_cost_list,\n",
    "    \"sell_cost_pct\": sell_cost_list,\n",
    "    \"state_space\": state_space,\n",
    "    \"stock_dim\": stock_dimension,\n",
    "    \"tech_indicator_list\": INDICATORS,\n",
    "    \"action_space\": stock_dimension,\n",
    "    \"reward_scaling\": 1e-4\n",
    "}"
   ]
  },
  {
   "cell_type": "code",
   "execution_count": 109,
   "metadata": {
    "id": "cIqoV0GSI52v"
   },
   "outputs": [],
   "source": [
    "e_trade_gym = StockTradingEnv(df = trade, turbulence_threshold = 70,risk_indicator_col='vix', **env_kwargs)\n",
    "# env_trade, obs_trade = e_trade_gym.get_sb_env()"
   ]
  },
  {
   "cell_type": "code",
   "execution_count": 110,
   "metadata": {
    "colab": {
     "base_uri": "https://localhost:8080/"
    },
    "id": "lbFchno5j3xs",
    "outputId": "44fffa47-3b47-4e7b-96c2-0a485e9efead"
   },
   "outputs": [
    {
     "name": "stdout",
     "output_type": "stream",
     "text": [
      "hit end!\n"
     ]
    }
   ],
   "source": [
    "df_account_value_a2c, df_actions_a2c = DRLAgent.DRL_prediction(\n",
    "    model=trained_a2c, \n",
    "    environment = e_trade_gym) if if_using_a2c else (None, None)"
   ]
  },
  {
   "cell_type": "code",
   "execution_count": 111,
   "metadata": {
    "id": "JbYljWGjj3pH"
   },
   "outputs": [
    {
     "name": "stdout",
     "output_type": "stream",
     "text": [
      "hit end!\n"
     ]
    }
   ],
   "source": [
    "df_account_value_ddpg, df_actions_ddpg = DRLAgent.DRL_prediction(\n",
    "    model=trained_ddpg, \n",
    "    environment = e_trade_gym) if if_using_ddpg else (None, None)"
   ]
  },
  {
   "cell_type": "code",
   "execution_count": 112,
   "metadata": {
    "id": "74jNP2DBj3hb"
   },
   "outputs": [
    {
     "name": "stdout",
     "output_type": "stream",
     "text": [
      "hit end!\n"
     ]
    }
   ],
   "source": [
    "df_account_value_ppo, df_actions_ppo = DRLAgent.DRL_prediction(\n",
    "    model=trained_ppo, \n",
    "    environment = e_trade_gym) if if_using_ppo else (None, None)"
   ]
  },
  {
   "cell_type": "code",
   "execution_count": 113,
   "metadata": {
    "id": "S7VyGGJPj3SH"
   },
   "outputs": [
    {
     "name": "stdout",
     "output_type": "stream",
     "text": [
      "hit end!\n"
     ]
    }
   ],
   "source": [
    "df_account_value_td3, df_actions_td3 = DRLAgent.DRL_prediction(\n",
    "    model=trained_td3, \n",
    "    environment = e_trade_gym) if if_using_td3 else (None, None)"
   ]
  },
  {
   "cell_type": "code",
   "execution_count": 114,
   "metadata": {
    "colab": {
     "base_uri": "https://localhost:8080/"
    },
    "id": "eLOnL5eYh1jR",
    "outputId": "70e50e24-aed5-49f9-cdd7-de6b9689d9ce"
   },
   "outputs": [
    {
     "name": "stdout",
     "output_type": "stream",
     "text": [
      "hit end!\n"
     ]
    }
   ],
   "source": [
    "df_account_value_sac, df_actions_sac = DRLAgent.DRL_prediction(\n",
    "    model=trained_sac, \n",
    "    environment = e_trade_gym) if if_using_sac else (None, None)"
   ]
  },
  {
   "cell_type": "markdown",
   "metadata": {
    "id": "GcE-t08w6DaW"
   },
   "source": [
    "# Part 3: Mean Variance Optimization"
   ]
  },
  {
   "cell_type": "markdown",
   "metadata": {
    "id": "17TUs71EWj09"
   },
   "source": [
    "Mean Variance optimization is a very classic strategy in portfolio management. Here, we go through the whole process to do the mean variance optimization and add it as a baseline to compare.\n",
    "\n",
    "First, process dataframe to the form for MVO weight calculation."
   ]
  },
  {
   "cell_type": "code",
   "execution_count": 115,
   "metadata": {
    "id": "wungSNOwPwKR"
   },
   "outputs": [],
   "source": [
    "def process_df_for_mvo(df):\n",
    "  return df.pivot(index=\"date\", columns=\"tic\", values=\"close\")"
   ]
  },
  {
   "cell_type": "markdown",
   "metadata": {
    "id": "SwEwkHJ1d_6u"
   },
   "source": [
    "### Helper functions for mean returns and variance-covariance matrix"
   ]
  },
  {
   "cell_type": "code",
   "execution_count": 116,
   "metadata": {
    "id": "6KvXkpyE8MFq"
   },
   "outputs": [],
   "source": [
    "# Codes in this section partially refer to Dr G A Vijayalakshmi Pai\n",
    "\n",
    "# https://www.kaggle.com/code/vijipai/lesson-5-mean-variance-optimization-of-portfolios/notebook\n",
    "\n",
    "def StockReturnsComputing(StockPrice, Rows, Columns): \n",
    "  import numpy as np \n",
    "  StockReturn = np.zeros([Rows-1, Columns]) \n",
    "  for j in range(Columns):        # j: Assets \n",
    "    for i in range(Rows-1):     # i: Daily Prices \n",
    "      StockReturn[i,j]=((StockPrice[i+1, j]-StockPrice[i,j])/StockPrice[i,j])* 100 \n",
    "      \n",
    "  return StockReturn"
   ]
  },
  {
   "cell_type": "markdown",
   "metadata": {
    "id": "IeVVbuwveJ_5"
   },
   "source": [
    "### Calculate the weights for mean-variance"
   ]
  },
  {
   "cell_type": "code",
   "execution_count": 117,
   "metadata": {
    "colab": {
     "base_uri": "https://localhost:8080/"
    },
    "id": "kE8nruKLQYLO",
    "outputId": "42d07c80-f309-49f8-f2b4-36a51987086f"
   },
   "outputs": [
    {
     "data": {
      "text/plain": [
       "array([[242.123],\n",
       "       [229.81 ],\n",
       "       [224.915],\n",
       "       [221.147],\n",
       "       [221.481],\n",
       "       [229.81 ],\n",
       "       [224.238],\n",
       "       [233.038],\n",
       "       [233.99 ],\n",
       "       [232.008],\n",
       "       [231.684],\n",
       "       [237.541],\n",
       "       [242.574],\n",
       "       [245.92 ],\n",
       "       [226.946],\n",
       "       [222.462],\n",
       "       [231.409],\n",
       "       [227.74 ],\n",
       "       [223.855],\n",
       "       [215.938],\n",
       "       [210.198],\n",
       "       [217.203],\n",
       "       [223.561],\n",
       "       [224.542],\n",
       "       [220.264],\n",
       "       [238.385],\n",
       "       [242.437],\n",
       "       [236.982],\n",
       "       [237.394],\n",
       "       [237.827],\n",
       "       [237.778],\n",
       "       [237.325],\n",
       "       [238.142],\n",
       "       [241.074],\n",
       "       [243.583],\n",
       "       [243.494],\n",
       "       [237.856],\n",
       "       [236.45 ],\n",
       "       [251.02 ],\n",
       "       [250.578],\n",
       "       [250.902],\n",
       "       [246.16 ],\n",
       "       [241.162],\n",
       "       [240.424],\n",
       "       [243.405],\n",
       "       [241.457],\n",
       "       [248.433],\n",
       "       [252.772],\n",
       "       [253.067],\n",
       "       [244.989],\n",
       "       [240.739],\n",
       "       [236.568],\n",
       "       [237.896],\n",
       "       [240.483],\n",
       "       [234.344],\n",
       "       [234.875],\n",
       "       [233.134],\n",
       "       [230.743],\n",
       "       [237.119],\n",
       "       [235.948],\n",
       "       [235.712],\n",
       "       [225.401],\n",
       "       [218.721],\n",
       "       [221.298],\n",
       "       [223.453],\n",
       "       [225.155],\n",
       "       [231.963],\n",
       "       [234.659],\n",
       "       [235.367],\n",
       "       [236.469],\n",
       "       [232.003],\n",
       "       [228.185],\n",
       "       [236.341],\n",
       "       [238.663],\n",
       "       [238.132],\n",
       "       [236.725],\n",
       "       [243.996],\n",
       "       [244.153],\n",
       "       [238.791],\n",
       "       [243.809],\n",
       "       [248.669],\n",
       "       [260.328],\n",
       "       [254.179],\n",
       "       [252.624],\n",
       "       [263.24 ],\n",
       "       [262.423],\n",
       "       [259.364],\n",
       "       [258.852],\n",
       "       [266.939],\n",
       "       [267.776],\n",
       "       [265.635],\n",
       "       [258.563],\n",
       "       [254.529],\n",
       "       [249.213],\n",
       "       [248.069],\n",
       "       [251.284],\n",
       "       [245.81 ],\n",
       "       [246.737],\n",
       "       [246.007],\n",
       "       [242.901],\n",
       "       [247.674],\n",
       "       [251.797],\n",
       "       [253.356],\n",
       "       [250.673],\n",
       "       [250.229],\n",
       "       [248.868],\n",
       "       [245.189],\n",
       "       [250.446],\n",
       "       [257.222],\n",
       "       [261.808],\n",
       "       [272.421],\n",
       "       [275.607],\n",
       "       [268.505],\n",
       "       [270.034],\n",
       "       [268.565],\n",
       "       [273.861],\n",
       "       [276.731],\n",
       "       [272.599],\n",
       "       [271.464],\n",
       "       [276.672],\n",
       "       [280.164],\n",
       "       [284.355],\n",
       "       [283.3  ],\n",
       "       [283.251],\n",
       "       [280.45 ]])"
      ]
     },
     "execution_count": 117,
     "metadata": {},
     "output_type": "execute_result"
    }
   ],
   "source": [
    "StockData = process_df_for_mvo(train)\n",
    "TradeData = process_df_for_mvo(trade)\n",
    "\n",
    "TradeData.to_numpy()"
   ]
  },
  {
   "cell_type": "code",
   "execution_count": 118,
   "metadata": {
    "colab": {
     "base_uri": "https://localhost:8080/"
    },
    "id": "u6_O6vrn_uD4",
    "outputId": "0c2f8bf7-07e7-4fe5-c409-93312b95a8dd"
   },
   "outputs": [
    {
     "name": "stdout",
     "output_type": "stream",
     "text": [
      "Mean returns of assets in k-portfolio 1\n",
      " [0.105]\n",
      "Variance-Covariance matrix of returns\n",
      " 4.341364379077664\n"
     ]
    }
   ],
   "source": [
    "#compute asset returns\n",
    "arStockPrices = np.asarray(StockData)\n",
    "[Rows, Cols]=arStockPrices.shape\n",
    "arReturns = StockReturnsComputing(arStockPrices, Rows, Cols)\n",
    "\n",
    "#compute mean returns and variance covariance matrix of returns\n",
    "meanReturns = np.mean(arReturns, axis = 0)\n",
    "covReturns = np.cov(arReturns, rowvar=False)\n",
    " \n",
    "#set precision for printing results\n",
    "np.set_printoptions(precision=3, suppress = True)\n",
    "\n",
    "#display mean returns and variance-covariance matrix of returns\n",
    "print('Mean returns of assets in k-portfolio 1\\n', meanReturns)\n",
    "print('Variance-Covariance matrix of returns\\n', covReturns)"
   ]
  },
  {
   "cell_type": "markdown",
   "metadata": {
    "id": "zC7r-cI8RR1X"
   },
   "source": [
    "### Use PyPortfolioOpt"
   ]
  },
  {
   "cell_type": "code",
   "execution_count": 119,
   "metadata": {
    "colab": {
     "base_uri": "https://localhost:8080/"
    },
    "id": "b1btTONEdCU4",
    "outputId": "75096462-7dfb-4ce6-c6f4-4671f11e79fc"
   },
   "outputs": [
    {
     "ename": "ValueError",
     "evalue": "Covariance matrix does not match expected returns",
     "output_type": "error",
     "traceback": [
      "\u001B[1;31m---------------------------------------------------------------------------\u001B[0m",
      "\u001B[1;31mValueError\u001B[0m                                Traceback (most recent call last)",
      "Cell \u001B[1;32mIn[119], line 3\u001B[0m\n\u001B[0;32m      1\u001B[0m \u001B[38;5;28;01mfrom\u001B[39;00m \u001B[38;5;21;01mpypfopt\u001B[39;00m\u001B[38;5;21;01m.\u001B[39;00m\u001B[38;5;21;01mefficient_frontier\u001B[39;00m \u001B[38;5;28;01mimport\u001B[39;00m EfficientFrontier\n\u001B[1;32m----> 3\u001B[0m ef_mean \u001B[38;5;241m=\u001B[39m \u001B[43mEfficientFrontier\u001B[49m\u001B[43m(\u001B[49m\u001B[43mmeanReturns\u001B[49m\u001B[43m,\u001B[49m\u001B[43m \u001B[49m\u001B[43mcovReturns\u001B[49m\u001B[43m,\u001B[49m\u001B[43m \u001B[49m\u001B[43mweight_bounds\u001B[49m\u001B[38;5;241;43m=\u001B[39;49m\u001B[43m(\u001B[49m\u001B[38;5;241;43m0\u001B[39;49m\u001B[43m,\u001B[49m\u001B[43m \u001B[49m\u001B[38;5;241;43m0.5\u001B[39;49m\u001B[43m)\u001B[49m\u001B[43m)\u001B[49m\n\u001B[0;32m      4\u001B[0m raw_weights_mean \u001B[38;5;241m=\u001B[39m ef_mean\u001B[38;5;241m.\u001B[39mmax_sharpe()\n\u001B[0;32m      5\u001B[0m cleaned_weights_mean \u001B[38;5;241m=\u001B[39m ef_mean\u001B[38;5;241m.\u001B[39mclean_weights()\n",
      "File \u001B[1;32me:\\Development\\Anaconda3\\envs\\trading\\lib\\site-packages\\pypfopt\\efficient_frontier\\efficient_frontier.py:105\u001B[0m, in \u001B[0;36mEfficientFrontier.__init__\u001B[1;34m(self, expected_returns, cov_matrix, weight_bounds, solver, verbose, solver_options)\u001B[0m\n\u001B[0;32m    103\u001B[0m \u001B[38;5;28;01mif\u001B[39;00m expected_returns \u001B[38;5;129;01mis\u001B[39;00m \u001B[38;5;129;01mnot\u001B[39;00m \u001B[38;5;28;01mNone\u001B[39;00m \u001B[38;5;129;01mand\u001B[39;00m cov_matrix \u001B[38;5;129;01mis\u001B[39;00m \u001B[38;5;129;01mnot\u001B[39;00m \u001B[38;5;28;01mNone\u001B[39;00m:\n\u001B[0;32m    104\u001B[0m     \u001B[38;5;28;01mif\u001B[39;00m cov_matrix\u001B[38;5;241m.\u001B[39mshape \u001B[38;5;241m!=\u001B[39m (num_assets, num_assets):\n\u001B[1;32m--> 105\u001B[0m         \u001B[38;5;28;01mraise\u001B[39;00m \u001B[38;5;167;01mValueError\u001B[39;00m(\u001B[38;5;124m\"\u001B[39m\u001B[38;5;124mCovariance matrix does not match expected returns\u001B[39m\u001B[38;5;124m\"\u001B[39m)\n\u001B[0;32m    107\u001B[0m \u001B[38;5;28msuper\u001B[39m()\u001B[38;5;241m.\u001B[39m\u001B[38;5;21m__init__\u001B[39m(\n\u001B[0;32m    108\u001B[0m     \u001B[38;5;28mlen\u001B[39m(tickers),\n\u001B[0;32m    109\u001B[0m     tickers,\n\u001B[1;32m   (...)\u001B[0m\n\u001B[0;32m    113\u001B[0m     solver_options\u001B[38;5;241m=\u001B[39msolver_options,\n\u001B[0;32m    114\u001B[0m )\n",
      "\u001B[1;31mValueError\u001B[0m: Covariance matrix does not match expected returns"
     ]
    }
   ],
   "source": [
    "from pypfopt.efficient_frontier import EfficientFrontier\n",
    "\n",
    "ef_mean = EfficientFrontier(meanReturns, covReturns, weight_bounds=(0, 0.5))\n",
    "raw_weights_mean = ef_mean.max_sharpe()\n",
    "cleaned_weights_mean = ef_mean.clean_weights()\n",
    "mvo_weights = np.array([1000000 * cleaned_weights_mean[i] for i in range(len(cleaned_weights_mean))])\n",
    "mvo_weights"
   ]
  },
  {
   "cell_type": "code",
   "execution_count": null,
   "metadata": {
    "colab": {
     "base_uri": "https://localhost:8080/"
    },
    "id": "F38NJRJJgOmj",
    "outputId": "f575651b-1e9b-4015-ae71-c9fc2c3a3dae"
   },
   "outputs": [
    {
     "data": {
      "text/plain": [
       "array([3326.984,    0.   ,    0.   ,    0.   ,  145.392,    0.   ,\n",
       "          0.   ,    0.   ,    0.   ,    0.   ,    0.   ,    0.   ,\n",
       "          0.   ,    0.   ,    0.   ,    0.   ,    0.   ,    0.   ,\n",
       "          0.   ,    0.   ,    0.   ,    0.   ,    0.   ,    0.   ,\n",
       "          0.   ,  979.214,    0.   ,    0.   ,    0.   ,    0.   ])"
      ]
     },
     "execution_count": 69,
     "metadata": {},
     "output_type": "execute_result"
    }
   ],
   "source": [
    "LastPrice = np.array([1/p for p in StockData.tail(1).to_numpy()[0]])\n",
    "Initial_Portfolio = np.multiply(mvo_weights, LastPrice)\n",
    "Initial_Portfolio"
   ]
  },
  {
   "cell_type": "code",
   "execution_count": null,
   "metadata": {
    "id": "ZAd1iXqZhQ6X"
   },
   "outputs": [
    {
     "data": {
      "text/html": [
       "<div>\n",
       "<style scoped>\n",
       "    .dataframe tbody tr th:only-of-type {\n",
       "        vertical-align: middle;\n",
       "    }\n",
       "\n",
       "    .dataframe tbody tr th {\n",
       "        vertical-align: top;\n",
       "    }\n",
       "\n",
       "    .dataframe thead th {\n",
       "        text-align: right;\n",
       "    }\n",
       "</style>\n",
       "<table border=\"1\" class=\"dataframe\">\n",
       "  <thead>\n",
       "    <tr style=\"text-align: right;\">\n",
       "      <th></th>\n",
       "      <th>Mean Var</th>\n",
       "    </tr>\n",
       "    <tr>\n",
       "      <th>date</th>\n",
       "      <th></th>\n",
       "    </tr>\n",
       "  </thead>\n",
       "  <tbody>\n",
       "    <tr>\n",
       "      <th>2022-10-06</th>\n",
       "      <td>9.938709e+05</td>\n",
       "    </tr>\n",
       "    <tr>\n",
       "      <th>2022-10-07</th>\n",
       "      <td>9.626415e+05</td>\n",
       "    </tr>\n",
       "    <tr>\n",
       "      <th>2022-10-10</th>\n",
       "      <td>9.582084e+05</td>\n",
       "    </tr>\n",
       "    <tr>\n",
       "      <th>2022-10-11</th>\n",
       "      <td>9.545301e+05</td>\n",
       "    </tr>\n",
       "    <tr>\n",
       "      <th>2022-10-12</th>\n",
       "      <td>9.525360e+05</td>\n",
       "    </tr>\n",
       "    <tr>\n",
       "      <th>...</th>\n",
       "      <td>...</td>\n",
       "    </tr>\n",
       "    <tr>\n",
       "      <th>2023-03-30</th>\n",
       "      <td>1.014359e+06</td>\n",
       "    </tr>\n",
       "    <tr>\n",
       "      <th>2023-03-31</th>\n",
       "      <td>1.025741e+06</td>\n",
       "    </tr>\n",
       "    <tr>\n",
       "      <th>2023-04-03</th>\n",
       "      <td>1.050658e+06</td>\n",
       "    </tr>\n",
       "    <tr>\n",
       "      <th>2023-04-04</th>\n",
       "      <td>1.046240e+06</td>\n",
       "    </tr>\n",
       "    <tr>\n",
       "      <th>2023-04-05</th>\n",
       "      <td>1.054762e+06</td>\n",
       "    </tr>\n",
       "  </tbody>\n",
       "</table>\n",
       "<p>125 rows × 1 columns</p>\n",
       "</div>"
      ],
      "text/plain": [
       "                Mean Var\n",
       "date                    \n",
       "2022-10-06  9.938709e+05\n",
       "2022-10-07  9.626415e+05\n",
       "2022-10-10  9.582084e+05\n",
       "2022-10-11  9.545301e+05\n",
       "2022-10-12  9.525360e+05\n",
       "...                  ...\n",
       "2023-03-30  1.014359e+06\n",
       "2023-03-31  1.025741e+06\n",
       "2023-04-03  1.050658e+06\n",
       "2023-04-04  1.046240e+06\n",
       "2023-04-05  1.054762e+06\n",
       "\n",
       "[125 rows x 1 columns]"
      ]
     },
     "execution_count": 70,
     "metadata": {},
     "output_type": "execute_result"
    }
   ],
   "source": [
    "Portfolio_Assets = TradeData @ Initial_Portfolio\n",
    "MVO_result = pd.DataFrame(Portfolio_Assets, columns=[\"Mean Var\"])\n",
    "MVO_result"
   ]
  },
  {
   "cell_type": "markdown",
   "metadata": {
    "id": "I5sgGe7g1HsL"
   },
   "source": [
    "# Part 4: S&P500 index"
   ]
  },
  {
   "cell_type": "markdown",
   "metadata": {
    "id": "sVe_ufxTY2CW"
   },
   "source": [
    "Add S&P500 index as a baseline to compare with."
   ]
  },
  {
   "cell_type": "code",
   "execution_count": null,
   "metadata": {
    "id": "sACPzsI-6k8q"
   },
   "outputs": [],
   "source": [
    "TRAIN_START_DATE = '2019-10-05'\n",
    "TRAIN_END_DATE = '2022-10-05'\n",
    "TRADE_START_DATE = '2022-10-06'\n",
    "TRADE_END_DATE = '2023-04-10'"
   ]
  },
  {
   "cell_type": "code",
   "execution_count": null,
   "metadata": {
    "colab": {
     "base_uri": "https://localhost:8080/"
    },
    "id": "TuszW-OB1K0m",
    "outputId": "b89a8350-de58-4fea-8e4b-856efa872712"
   },
   "outputs": [],
   "source": [
    "# sp_500 = YahooDownloader(\n",
    "#     start_date=TRADE_START_DATE, end_date=TRADE_END_DATE, ticker_list=[\"^SPX\"]\n",
    "# ).fetch_data()"
   ]
  },
  {
   "cell_type": "code",
   "execution_count": null,
   "metadata": {
    "id": "Q3RXz72U1VbV"
   },
   "outputs": [],
   "source": [
    "# sp_500 = sp_500[[\"date\", \"close\"]]\n",
    "# fst_day = sp_500[\"close\"][0]\n",
    "# dji = pd.merge(\n",
    "#     sp_500[\"date\"],\n",
    "#     sp_500[\"close\"].div(fst_day).mul(1000000),\n",
    "#     how=\"outer\",\n",
    "#     left_index=True,\n",
    "#     right_index=True,\n",
    "# ).set_index(\"date\")"
   ]
  },
  {
   "cell_type": "markdown",
   "metadata": {
    "id": "W6vvNSC6h1jZ"
   },
   "source": [
    "<a id='4'></a>\n",
    "# Part 5: Backtesting Results\n",
    "Backtesting plays a key role in evaluating the performance of a trading strategy. Automated backtesting tool is preferred because it reduces the human error. We usually use the Quantopian pyfolio package to backtest our trading strategies. It is easy to use and consists of various individual plots that provide a comprehensive image of the performance of a trading strategy."
   ]
  },
  {
   "cell_type": "code",
   "execution_count": null,
   "metadata": {
    "id": "KeDeGAc9VrEg"
   },
   "outputs": [],
   "source": [
    "df_result_a2c = (\n",
    "    df_account_value_a2c.set_index(df_account_value_a2c.columns[0])\n",
    "    if if_using_a2c\n",
    "    else None\n",
    ")\n",
    "df_result_ddpg = (\n",
    "    df_account_value_ddpg.set_index(df_account_value_ddpg.columns[0])\n",
    "    if if_using_ddpg\n",
    "    else None\n",
    ")\n",
    "df_result_ppo = (\n",
    "    df_account_value_ppo.set_index(df_account_value_ppo.columns[0])\n",
    "    if if_using_ppo\n",
    "    else None\n",
    ")\n",
    "df_result_td3 = (\n",
    "    df_account_value_td3.set_index(df_account_value_td3.columns[0])\n",
    "    if if_using_td3\n",
    "    else None\n",
    ")\n",
    "df_result_sac = (\n",
    "    df_account_value_sac.set_index(df_account_value_sac.columns[0])\n",
    "    if if_using_sac\n",
    "    else None\n",
    ")\n",
    "\n",
    "result = pd.DataFrame(\n",
    "    {\n",
    "        \"a2c\": df_result_a2c[\"account_value\"] if if_using_a2c else None,\n",
    "        \"ddpg\": df_result_ddpg[\"account_value\"] if if_using_ddpg else None,\n",
    "        \"ppo\": df_result_ppo[\"account_value\"] if if_using_ppo else None,\n",
    "        \"td3\": df_result_td3[\"account_value\"] if if_using_td3 else None,\n",
    "        \"sac\": df_result_sac[\"account_value\"] if if_using_sac else None,\n",
    "        \"mvo\": MVO_result[\"Mean Var\"],\n",
    "    }\n",
    ")"
   ]
  },
  {
   "cell_type": "code",
   "execution_count": null,
   "metadata": {
    "colab": {
     "base_uri": "https://localhost:8080/",
     "height": 455
    },
    "id": "l4FZxyDt3XaE",
    "outputId": "2e739637-bf88-4698-9cf1-9a526452e465"
   },
   "outputs": [
    {
     "data": {
      "text/html": [
       "<div>\n",
       "<style scoped>\n",
       "    .dataframe tbody tr th:only-of-type {\n",
       "        vertical-align: middle;\n",
       "    }\n",
       "\n",
       "    .dataframe tbody tr th {\n",
       "        vertical-align: top;\n",
       "    }\n",
       "\n",
       "    .dataframe thead th {\n",
       "        text-align: right;\n",
       "    }\n",
       "</style>\n",
       "<table border=\"1\" class=\"dataframe\">\n",
       "  <thead>\n",
       "    <tr style=\"text-align: right;\">\n",
       "      <th></th>\n",
       "      <th>a2c</th>\n",
       "      <th>ddpg</th>\n",
       "      <th>ppo</th>\n",
       "      <th>td3</th>\n",
       "      <th>sac</th>\n",
       "      <th>mvo</th>\n",
       "    </tr>\n",
       "    <tr>\n",
       "      <th>date</th>\n",
       "      <th></th>\n",
       "      <th></th>\n",
       "      <th></th>\n",
       "      <th></th>\n",
       "      <th></th>\n",
       "      <th></th>\n",
       "    </tr>\n",
       "  </thead>\n",
       "  <tbody>\n",
       "    <tr>\n",
       "      <th>2022-10-06</th>\n",
       "      <td>1.000000e+06</td>\n",
       "      <td>1.000000e+06</td>\n",
       "      <td>1.000000e+06</td>\n",
       "      <td>1.000000e+06</td>\n",
       "      <td>1.000000e+06</td>\n",
       "      <td>9.938709e+05</td>\n",
       "    </tr>\n",
       "    <tr>\n",
       "      <th>2022-10-07</th>\n",
       "      <td>9.965399e+05</td>\n",
       "      <td>9.922338e+05</td>\n",
       "      <td>9.969623e+05</td>\n",
       "      <td>9.947430e+05</td>\n",
       "      <td>9.937270e+05</td>\n",
       "      <td>9.626415e+05</td>\n",
       "    </tr>\n",
       "    <tr>\n",
       "      <th>2022-10-10</th>\n",
       "      <td>9.939432e+05</td>\n",
       "      <td>9.881378e+05</td>\n",
       "      <td>9.955910e+05</td>\n",
       "      <td>9.914352e+05</td>\n",
       "      <td>9.913134e+05</td>\n",
       "      <td>9.582084e+05</td>\n",
       "    </tr>\n",
       "    <tr>\n",
       "      <th>2022-10-11</th>\n",
       "      <td>9.939316e+05</td>\n",
       "      <td>9.878620e+05</td>\n",
       "      <td>9.959989e+05</td>\n",
       "      <td>9.886916e+05</td>\n",
       "      <td>9.900869e+05</td>\n",
       "      <td>9.545301e+05</td>\n",
       "    </tr>\n",
       "    <tr>\n",
       "      <th>2022-10-12</th>\n",
       "      <td>9.930385e+05</td>\n",
       "      <td>9.877371e+05</td>\n",
       "      <td>9.953251e+05</td>\n",
       "      <td>9.875162e+05</td>\n",
       "      <td>9.890311e+05</td>\n",
       "      <td>9.525360e+05</td>\n",
       "    </tr>\n",
       "    <tr>\n",
       "      <th>...</th>\n",
       "      <td>...</td>\n",
       "      <td>...</td>\n",
       "      <td>...</td>\n",
       "      <td>...</td>\n",
       "      <td>...</td>\n",
       "      <td>...</td>\n",
       "    </tr>\n",
       "    <tr>\n",
       "      <th>2023-03-30</th>\n",
       "      <td>1.027562e+06</td>\n",
       "      <td>1.103167e+06</td>\n",
       "      <td>1.167983e+06</td>\n",
       "      <td>1.131246e+06</td>\n",
       "      <td>1.074472e+06</td>\n",
       "      <td>1.014359e+06</td>\n",
       "    </tr>\n",
       "    <tr>\n",
       "      <th>2023-03-31</th>\n",
       "      <td>1.041164e+06</td>\n",
       "      <td>1.117583e+06</td>\n",
       "      <td>1.184663e+06</td>\n",
       "      <td>1.146072e+06</td>\n",
       "      <td>1.086128e+06</td>\n",
       "      <td>1.025741e+06</td>\n",
       "    </tr>\n",
       "    <tr>\n",
       "      <th>2023-04-03</th>\n",
       "      <td>1.064739e+06</td>\n",
       "      <td>1.129697e+06</td>\n",
       "      <td>1.193259e+06</td>\n",
       "      <td>1.160568e+06</td>\n",
       "      <td>1.108352e+06</td>\n",
       "      <td>1.050658e+06</td>\n",
       "    </tr>\n",
       "    <tr>\n",
       "      <th>2023-04-04</th>\n",
       "      <td>1.060906e+06</td>\n",
       "      <td>1.127367e+06</td>\n",
       "      <td>1.193400e+06</td>\n",
       "      <td>1.154325e+06</td>\n",
       "      <td>1.104077e+06</td>\n",
       "      <td>1.046240e+06</td>\n",
       "    </tr>\n",
       "    <tr>\n",
       "      <th>2023-04-05</th>\n",
       "      <td>1.071761e+06</td>\n",
       "      <td>1.131861e+06</td>\n",
       "      <td>1.186487e+06</td>\n",
       "      <td>1.156526e+06</td>\n",
       "      <td>1.121577e+06</td>\n",
       "      <td>1.054762e+06</td>\n",
       "    </tr>\n",
       "  </tbody>\n",
       "</table>\n",
       "<p>125 rows × 6 columns</p>\n",
       "</div>"
      ],
      "text/plain": [
       "                     a2c          ddpg           ppo           td3  \\\n",
       "date                                                                 \n",
       "2022-10-06  1.000000e+06  1.000000e+06  1.000000e+06  1.000000e+06   \n",
       "2022-10-07  9.965399e+05  9.922338e+05  9.969623e+05  9.947430e+05   \n",
       "2022-10-10  9.939432e+05  9.881378e+05  9.955910e+05  9.914352e+05   \n",
       "2022-10-11  9.939316e+05  9.878620e+05  9.959989e+05  9.886916e+05   \n",
       "2022-10-12  9.930385e+05  9.877371e+05  9.953251e+05  9.875162e+05   \n",
       "...                  ...           ...           ...           ...   \n",
       "2023-03-30  1.027562e+06  1.103167e+06  1.167983e+06  1.131246e+06   \n",
       "2023-03-31  1.041164e+06  1.117583e+06  1.184663e+06  1.146072e+06   \n",
       "2023-04-03  1.064739e+06  1.129697e+06  1.193259e+06  1.160568e+06   \n",
       "2023-04-04  1.060906e+06  1.127367e+06  1.193400e+06  1.154325e+06   \n",
       "2023-04-05  1.071761e+06  1.131861e+06  1.186487e+06  1.156526e+06   \n",
       "\n",
       "                     sac           mvo  \n",
       "date                                    \n",
       "2022-10-06  1.000000e+06  9.938709e+05  \n",
       "2022-10-07  9.937270e+05  9.626415e+05  \n",
       "2022-10-10  9.913134e+05  9.582084e+05  \n",
       "2022-10-11  9.900869e+05  9.545301e+05  \n",
       "2022-10-12  9.890311e+05  9.525360e+05  \n",
       "...                  ...           ...  \n",
       "2023-03-30  1.074472e+06  1.014359e+06  \n",
       "2023-03-31  1.086128e+06  1.025741e+06  \n",
       "2023-04-03  1.108352e+06  1.050658e+06  \n",
       "2023-04-04  1.104077e+06  1.046240e+06  \n",
       "2023-04-05  1.121577e+06  1.054762e+06  \n",
       "\n",
       "[125 rows x 6 columns]"
      ]
     },
     "execution_count": 98,
     "metadata": {},
     "output_type": "execute_result"
    }
   ],
   "source": [
    "result"
   ]
  },
  {
   "cell_type": "markdown",
   "metadata": {
    "id": "QQuc5hI9Yklt"
   },
   "source": [
    "Now, everything is ready, we can plot the backtest result."
   ]
  },
  {
   "cell_type": "code",
   "execution_count": null,
   "metadata": {
    "colab": {
     "base_uri": "https://localhost:8080/",
     "height": 381
    },
    "id": "6xRfrqK4RVfq",
    "outputId": "469c9729-fd57-417c-9b13-2243426923e2"
   },
   "outputs": [
    {
     "data": {
      "text/plain": [
       "<Axes: xlabel='date'>"
      ]
     },
     "execution_count": 99,
     "metadata": {},
     "output_type": "execute_result"
    }
   ],
   "source": [
    "plt.rcParams[\"figure.figsize\"] = (15,5)\n",
    "plt.figure()\n",
    "result.plot()"
   ]
  },
  {
   "cell_type": "code",
   "execution_count": null,
   "metadata": {},
   "outputs": [
    {
     "data": {
      "text/html": [
       "<div>\n",
       "<style scoped>\n",
       "    .dataframe tbody tr th:only-of-type {\n",
       "        vertical-align: middle;\n",
       "    }\n",
       "\n",
       "    .dataframe tbody tr th {\n",
       "        vertical-align: top;\n",
       "    }\n",
       "\n",
       "    .dataframe thead th {\n",
       "        text-align: right;\n",
       "    }\n",
       "</style>\n",
       "<table border=\"1\" class=\"dataframe\">\n",
       "  <thead>\n",
       "    <tr style=\"text-align: right;\">\n",
       "      <th></th>\n",
       "      <th>a2c</th>\n",
       "      <th>ddpg</th>\n",
       "      <th>ppo</th>\n",
       "      <th>td3</th>\n",
       "      <th>sac</th>\n",
       "      <th>mvo</th>\n",
       "    </tr>\n",
       "  </thead>\n",
       "  <tbody>\n",
       "    <tr>\n",
       "      <th>total_return</th>\n",
       "      <td>0.072</td>\n",
       "      <td>0.132</td>\n",
       "      <td>0.186</td>\n",
       "      <td>0.157</td>\n",
       "      <td>0.122</td>\n",
       "      <td>0.061</td>\n",
       "    </tr>\n",
       "    <tr>\n",
       "      <th>annual_return</th>\n",
       "      <td>0.150</td>\n",
       "      <td>0.284</td>\n",
       "      <td>0.412</td>\n",
       "      <td>0.341</td>\n",
       "      <td>0.260</td>\n",
       "      <td>0.127</td>\n",
       "    </tr>\n",
       "    <tr>\n",
       "      <th>annual_volatility</th>\n",
       "      <td>0.176</td>\n",
       "      <td>0.175</td>\n",
       "      <td>0.216</td>\n",
       "      <td>0.175</td>\n",
       "      <td>0.164</td>\n",
       "      <td>0.221</td>\n",
       "    </tr>\n",
       "    <tr>\n",
       "      <th>sharpe_ratio</th>\n",
       "      <td>0.718</td>\n",
       "      <td>1.357</td>\n",
       "      <td>1.580</td>\n",
       "      <td>1.606</td>\n",
       "      <td>1.322</td>\n",
       "      <td>0.520</td>\n",
       "    </tr>\n",
       "    <tr>\n",
       "      <th>sortino_ratio</th>\n",
       "      <td>1.226</td>\n",
       "      <td>2.413</td>\n",
       "      <td>3.155</td>\n",
       "      <td>2.901</td>\n",
       "      <td>2.464</td>\n",
       "      <td>0.931</td>\n",
       "    </tr>\n",
       "  </tbody>\n",
       "</table>\n",
       "</div>"
      ],
      "text/plain": [
       "                     a2c   ddpg    ppo    td3    sac    mvo\n",
       "total_return       0.072  0.132  0.186  0.157  0.122  0.061\n",
       "annual_return      0.150  0.284  0.412  0.341  0.260  0.127\n",
       "annual_volatility  0.176  0.175  0.216  0.175  0.164  0.221\n",
       "sharpe_ratio       0.718  1.357  1.580  1.606  1.322  0.520\n",
       "sortino_ratio      1.226  2.413  3.155  2.901  2.464  0.931"
      ]
     },
     "execution_count": 101,
     "metadata": {},
     "output_type": "execute_result"
    }
   ],
   "source": [
    "import numpy as np\n",
    "\n",
    "def calculate_metrics(daily_value, risk_free_rate=0.03):\n",
    "    # dropna\n",
    "    daily_value = daily_value.dropna()\n",
    "    final_value = daily_value.iloc[-1]\n",
    "    initial_cash = daily_value.iloc[0]\n",
    "    daily_returns = daily_value.pct_change().dropna()\n",
    "    total_return = (final_value / initial_cash) - 1\n",
    "    annual_return = (1 + total_return) ** (252 / len(daily_value)) - 1\n",
    "    annual_volatility = daily_returns.std() * np.sqrt(252)\n",
    "    downside_returns = daily_returns[daily_returns < 0]\n",
    "    downside_deviation = downside_returns.std() * np.sqrt(252) if len(downside_returns) > 1 else 0\n",
    "\n",
    "    sharpe_ratio = (daily_returns.mean() * 252 - risk_free_rate) / annual_volatility if annual_volatility > 0 else 0\n",
    "    sortino_ratio = (daily_returns.mean() * 252 - risk_free_rate) / downside_deviation if downside_deviation > 0 else 0\n",
    "\n",
    "    return {\n",
    "        \"total_return\": round(float(total_return), 3),\n",
    "        \"annual_return\": round(float(annual_return), 3),\n",
    "        \"annual_volatility\": round(float(annual_volatility), 3),\n",
    "        \"sharpe_ratio\": round(float(sharpe_ratio), 3),\n",
    "        \"sortino_ratio\": round(float(sortino_ratio), 3),\n",
    "    }\n",
    "\n",
    "methods = result.columns\n",
    "metrics = pd.DataFrame()\n",
    "for method in methods:\n",
    "    metrics[method] = calculate_metrics(result[method])\n",
    "\n",
    "metrics\n"
   ]
  },
  {
   "cell_type": "code",
   "execution_count": null,
   "metadata": {},
   "outputs": [],
   "source": []
  }
 ],
 "metadata": {
  "colab": {
   "collapsed_sections": [
    "GfZ5vY5wRjkJ"
   ],
   "provenance": []
  },
  "kernelspec": {
   "display_name": "trading",
   "language": "python",
   "name": "python3"
  },
  "language_info": {
   "codemirror_mode": {
    "name": "ipython",
    "version": 3
   },
   "file_extension": ".py",
   "mimetype": "text/x-python",
   "name": "python",
   "nbconvert_exporter": "python",
   "pygments_lexer": "ipython3",
   "version": "3.10.15"
  }
 },
 "nbformat": 4,
 "nbformat_minor": 0
}
