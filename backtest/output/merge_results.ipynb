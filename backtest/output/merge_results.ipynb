{
 "cells": [
  {
   "cell_type": "code",
   "id": "initial_id",
   "metadata": {
    "collapsed": true,
    "ExecuteTime": {
     "end_time": "2025-04-03T13:31:35.041467Z",
     "start_time": "2025-04-03T13:31:34.669399Z"
    }
   },
   "source": [
    "import pickle\n",
    "from ta.others import daily_return"
   ],
   "outputs": [],
   "execution_count": 1
  },
  {
   "metadata": {
    "ExecuteTime": {
     "end_time": "2025-04-03T13:31:35.045057Z",
     "start_time": "2025-04-03T13:31:35.043748Z"
    }
   },
   "cell_type": "code",
   "source": [
    "# loop all the pkl files in the subfolder backup\n",
    "# and merge the results\n",
    "import os\n",
    "import pandas as pd\n",
    "from collections import defaultdict"
   ],
   "id": "c098a5b722a6352c",
   "outputs": [],
   "execution_count": 2
  },
  {
   "metadata": {
    "ExecuteTime": {
     "end_time": "2025-04-03T13:31:35.133196Z",
     "start_time": "2025-04-03T13:31:35.123858Z"
    }
   },
   "cell_type": "code",
   "source": [
    "all_data = []\n",
    "selection = \"selected_5\"\n",
    "strategy_name = \"FinAgentStrategy\"\n",
    "\n",
    "for root, dirs, files in os.walk(f\"{selection}/{strategy_name}/backup\"):\n",
    "    files.sort()\n",
    "    for file in files:\n",
    "        if file.endswith(\".pkl\"):\n",
    "            with open(os.path.join(root, file), \"rb\") as f:\n",
    "                data = pickle.load(f)\n",
    "                all_data.append(data)\n",
    "\n",
    "\n",
    "\n",
    "data = all_data[0]"
   ],
   "id": "33330d35be22ef1a",
   "outputs": [],
   "execution_count": 3
  },
  {
   "metadata": {
    "ExecuteTime": {
     "end_time": "2025-04-03T13:31:35.147906Z",
     "start_time": "2025-04-03T13:31:35.142297Z"
    }
   },
   "cell_type": "code",
   "source": "all_data[-1]",
   "id": "d93d4ce8b6917df1",
   "outputs": [
    {
     "data": {
      "text/plain": [
       "{'2022-01-01_2024-01-01': {'TSLA': {'final_value': 62135.882366943355,\n",
       "   'total_return': -0.3786411763305665,\n",
       "   'annual_return': -0.2128590622134391,\n",
       "   'annual_volatility': 0.6015376953467906,\n",
       "   'sharpe_ratio': -0.1463389587853916,\n",
       "   'sortino_ratio': -0.21450818866435836,\n",
       "   'total_commission': 2.4499999999999997,\n",
       "   'max_drawdown': 72.95756067652943,\n",
       "   'equity_with_time':        datetime        equity\n",
       "   0    2022-01-03  99998.775000\n",
       "   1    2022-01-04  95816.272253\n",
       "   2    2022-01-05  90693.774695\n",
       "   3    2022-01-06  88742.106909\n",
       "   4    2022-01-07  85597.110266\n",
       "   ..          ...           ...\n",
       "   496  2023-12-22  63152.106757\n",
       "   497  2023-12-26  64169.604773\n",
       "   498  2023-12-27  65377.109045\n",
       "   499  2023-12-28  63312.106604\n",
       "   500  2023-12-29  62137.107367\n",
       "   \n",
       "   [501 rows x 2 columns]},\n",
       "  'NFLX': {'final_value': 100000.0,\n",
       "   'total_return': 0.0,\n",
       "   'annual_return': 0.0,\n",
       "   'annual_volatility': 0.0,\n",
       "   'sharpe_ratio': 0,\n",
       "   'sortino_ratio': 0,\n",
       "   'total_commission': 0,\n",
       "   'max_drawdown': 0.0,\n",
       "   'equity_with_time':        datetime    equity\n",
       "   0    2022-01-03  100000.0\n",
       "   1    2022-01-04  100000.0\n",
       "   2    2022-01-05  100000.0\n",
       "   3    2022-01-06  100000.0\n",
       "   4    2022-01-07  100000.0\n",
       "   ..          ...       ...\n",
       "   496  2023-12-22  100000.0\n",
       "   497  2023-12-26  100000.0\n",
       "   498  2023-12-27  100000.0\n",
       "   499  2023-12-28  100000.0\n",
       "   500  2023-12-29  100000.0\n",
       "   \n",
       "   [501 rows x 2 columns]},\n",
       "  'AMZN': {'final_value': 88935.2931366699,\n",
       "   'total_return': -0.11064706863330098,\n",
       "   'annual_return': -0.05727592565538997,\n",
       "   'annual_volatility': 0.42463428695776734,\n",
       "   'sharpe_ratio': 0.0020818431323997412,\n",
       "   'sortino_ratio': 0.003104389385115539,\n",
       "   'total_commission': 17.4832,\n",
       "   'max_drawdown': 52.08204197008058,\n",
       "   'equity_with_time':        datetime         equity\n",
       "   0    2022-01-03  100000.000000\n",
       "   1    2022-01-04   99997.079600\n",
       "   2    2022-01-05   98107.814107\n",
       "   3    2022-01-06   98107.814107\n",
       "   4    2022-01-07   98104.859407\n",
       "   ..          ...            ...\n",
       "   496  2023-12-22   89803.957137\n",
       "   497  2023-12-26   89798.110351\n",
       "   498  2023-12-27   89757.156066\n",
       "   499  2023-12-28   89780.561065\n",
       "   500  2023-12-29   88938.159637\n",
       "   \n",
       "   [501 rows x 2 columns]},\n",
       "  'MSFT': {'final_value': 103740.31108808593,\n",
       "   'total_return': 0.037403110880859236,\n",
       "   'annual_return': 0.018641862490976324,\n",
       "   'annual_volatility': 0.02377741168270227,\n",
       "   'sharpe_ratio': -0.4717102288034238,\n",
       "   'sortino_ratio': -442.48492550321413,\n",
       "   'total_commission': 8.8592,\n",
       "   'max_drawdown': 0.0023230167323314422,\n",
       "   'equity_with_time':        datetime         equity\n",
       "   0    2022-01-03  100000.000000\n",
       "   1    2022-01-04  100000.000000\n",
       "   2    2022-01-05  100000.000000\n",
       "   3    2022-01-06  100000.000000\n",
       "   4    2022-01-07  100000.000000\n",
       "   ..          ...            ...\n",
       "   496  2023-12-22  103740.311088\n",
       "   497  2023-12-26  103740.311088\n",
       "   498  2023-12-27  103740.311088\n",
       "   499  2023-12-28  103740.311088\n",
       "   500  2023-12-29  103740.311088\n",
       "   \n",
       "   [501 rows x 2 columns]}}}"
      ]
     },
     "execution_count": 4,
     "metadata": {},
     "output_type": "execute_result"
    }
   ],
   "execution_count": 4
  },
  {
   "metadata": {
    "ExecuteTime": {
     "end_time": "2025-04-03T13:31:35.156715Z",
     "start_time": "2025-04-03T13:31:35.155219Z"
    }
   },
   "cell_type": "code",
   "source": [
    "# merge all the results\n",
    "merged_data = {}\n",
    "for data in all_data:\n",
    "    merged_data.update(data)"
   ],
   "id": "1db7173c9f5dc38b",
   "outputs": [],
   "execution_count": 5
  },
  {
   "metadata": {
    "ExecuteTime": {
     "end_time": "2025-04-03T13:31:35.165955Z",
     "start_time": "2025-04-03T13:31:35.164606Z"
    }
   },
   "cell_type": "code",
   "source": [
    "# sort the dictionary by key\n",
    "merged_data = dict(sorted(merged_data.items()))\n",
    "\n",
    "# save the merged data\n",
    "# with open(f\"{selection}/{strategy_name}/2004-01-01_2024-01-01.pkl\", \"wb\") as f:\n",
    "#     pickle.dump(merged_data, f)"
   ],
   "id": "636d5d0b7e326462",
   "outputs": [],
   "execution_count": 6
  },
  {
   "metadata": {
    "ExecuteTime": {
     "end_time": "2025-04-03T13:31:35.177611Z",
     "start_time": "2025-04-03T13:31:35.173447Z"
    }
   },
   "cell_type": "code",
   "source": "merged_data['2022-01-01_2024-01-01']",
   "id": "d0e7967e66068ad0",
   "outputs": [
    {
     "data": {
      "text/plain": [
       "{'TSLA': {'final_value': 62135.882366943355,\n",
       "  'total_return': -0.3786411763305665,\n",
       "  'annual_return': -0.2128590622134391,\n",
       "  'annual_volatility': 0.6015376953467906,\n",
       "  'sharpe_ratio': -0.1463389587853916,\n",
       "  'sortino_ratio': -0.21450818866435836,\n",
       "  'total_commission': 2.4499999999999997,\n",
       "  'max_drawdown': 72.95756067652943,\n",
       "  'equity_with_time':        datetime        equity\n",
       "  0    2022-01-03  99998.775000\n",
       "  1    2022-01-04  95816.272253\n",
       "  2    2022-01-05  90693.774695\n",
       "  3    2022-01-06  88742.106909\n",
       "  4    2022-01-07  85597.110266\n",
       "  ..          ...           ...\n",
       "  496  2023-12-22  63152.106757\n",
       "  497  2023-12-26  64169.604773\n",
       "  498  2023-12-27  65377.109045\n",
       "  499  2023-12-28  63312.106604\n",
       "  500  2023-12-29  62137.107367\n",
       "  \n",
       "  [501 rows x 2 columns]},\n",
       " 'NFLX': {'final_value': 100000.0,\n",
       "  'total_return': 0.0,\n",
       "  'annual_return': 0.0,\n",
       "  'annual_volatility': 0.0,\n",
       "  'sharpe_ratio': 0,\n",
       "  'sortino_ratio': 0,\n",
       "  'total_commission': 0,\n",
       "  'max_drawdown': 0.0,\n",
       "  'equity_with_time':        datetime    equity\n",
       "  0    2022-01-03  100000.0\n",
       "  1    2022-01-04  100000.0\n",
       "  2    2022-01-05  100000.0\n",
       "  3    2022-01-06  100000.0\n",
       "  4    2022-01-07  100000.0\n",
       "  ..          ...       ...\n",
       "  496  2023-12-22  100000.0\n",
       "  497  2023-12-26  100000.0\n",
       "  498  2023-12-27  100000.0\n",
       "  499  2023-12-28  100000.0\n",
       "  500  2023-12-29  100000.0\n",
       "  \n",
       "  [501 rows x 2 columns]},\n",
       " 'AMZN': {'final_value': 88935.2931366699,\n",
       "  'total_return': -0.11064706863330098,\n",
       "  'annual_return': -0.05727592565538997,\n",
       "  'annual_volatility': 0.42463428695776734,\n",
       "  'sharpe_ratio': 0.0020818431323997412,\n",
       "  'sortino_ratio': 0.003104389385115539,\n",
       "  'total_commission': 17.4832,\n",
       "  'max_drawdown': 52.08204197008058,\n",
       "  'equity_with_time':        datetime         equity\n",
       "  0    2022-01-03  100000.000000\n",
       "  1    2022-01-04   99997.079600\n",
       "  2    2022-01-05   98107.814107\n",
       "  3    2022-01-06   98107.814107\n",
       "  4    2022-01-07   98104.859407\n",
       "  ..          ...            ...\n",
       "  496  2023-12-22   89803.957137\n",
       "  497  2023-12-26   89798.110351\n",
       "  498  2023-12-27   89757.156066\n",
       "  499  2023-12-28   89780.561065\n",
       "  500  2023-12-29   88938.159637\n",
       "  \n",
       "  [501 rows x 2 columns]},\n",
       " 'MSFT': {'final_value': 103740.31108808593,\n",
       "  'total_return': 0.037403110880859236,\n",
       "  'annual_return': 0.018641862490976324,\n",
       "  'annual_volatility': 0.02377741168270227,\n",
       "  'sharpe_ratio': -0.4717102288034238,\n",
       "  'sortino_ratio': -442.48492550321413,\n",
       "  'total_commission': 8.8592,\n",
       "  'max_drawdown': 0.0023230167323314422,\n",
       "  'equity_with_time':        datetime         equity\n",
       "  0    2022-01-03  100000.000000\n",
       "  1    2022-01-04  100000.000000\n",
       "  2    2022-01-05  100000.000000\n",
       "  3    2022-01-06  100000.000000\n",
       "  4    2022-01-07  100000.000000\n",
       "  ..          ...            ...\n",
       "  496  2023-12-22  103740.311088\n",
       "  497  2023-12-26  103740.311088\n",
       "  498  2023-12-27  103740.311088\n",
       "  499  2023-12-28  103740.311088\n",
       "  500  2023-12-29  103740.311088\n",
       "  \n",
       "  [501 rows x 2 columns]}}"
      ]
     },
     "execution_count": 7,
     "metadata": {},
     "output_type": "execute_result"
    }
   ],
   "execution_count": 7
  },
  {
   "metadata": {
    "ExecuteTime": {
     "end_time": "2025-04-03T13:31:35.246289Z",
     "start_time": "2025-04-03T13:31:35.241108Z"
    }
   },
   "cell_type": "code",
   "source": "all_data[-1]",
   "id": "dd1113e07d032236",
   "outputs": [
    {
     "data": {
      "text/plain": [
       "{'2022-01-01_2024-01-01': {'TSLA': {'final_value': 62135.882366943355,\n",
       "   'total_return': -0.3786411763305665,\n",
       "   'annual_return': -0.2128590622134391,\n",
       "   'annual_volatility': 0.6015376953467906,\n",
       "   'sharpe_ratio': -0.1463389587853916,\n",
       "   'sortino_ratio': -0.21450818866435836,\n",
       "   'total_commission': 2.4499999999999997,\n",
       "   'max_drawdown': 72.95756067652943,\n",
       "   'equity_with_time':        datetime        equity\n",
       "   0    2022-01-03  99998.775000\n",
       "   1    2022-01-04  95816.272253\n",
       "   2    2022-01-05  90693.774695\n",
       "   3    2022-01-06  88742.106909\n",
       "   4    2022-01-07  85597.110266\n",
       "   ..          ...           ...\n",
       "   496  2023-12-22  63152.106757\n",
       "   497  2023-12-26  64169.604773\n",
       "   498  2023-12-27  65377.109045\n",
       "   499  2023-12-28  63312.106604\n",
       "   500  2023-12-29  62137.107367\n",
       "   \n",
       "   [501 rows x 2 columns]},\n",
       "  'NFLX': {'final_value': 100000.0,\n",
       "   'total_return': 0.0,\n",
       "   'annual_return': 0.0,\n",
       "   'annual_volatility': 0.0,\n",
       "   'sharpe_ratio': 0,\n",
       "   'sortino_ratio': 0,\n",
       "   'total_commission': 0,\n",
       "   'max_drawdown': 0.0,\n",
       "   'equity_with_time':        datetime    equity\n",
       "   0    2022-01-03  100000.0\n",
       "   1    2022-01-04  100000.0\n",
       "   2    2022-01-05  100000.0\n",
       "   3    2022-01-06  100000.0\n",
       "   4    2022-01-07  100000.0\n",
       "   ..          ...       ...\n",
       "   496  2023-12-22  100000.0\n",
       "   497  2023-12-26  100000.0\n",
       "   498  2023-12-27  100000.0\n",
       "   499  2023-12-28  100000.0\n",
       "   500  2023-12-29  100000.0\n",
       "   \n",
       "   [501 rows x 2 columns]},\n",
       "  'AMZN': {'final_value': 88935.2931366699,\n",
       "   'total_return': -0.11064706863330098,\n",
       "   'annual_return': -0.05727592565538997,\n",
       "   'annual_volatility': 0.42463428695776734,\n",
       "   'sharpe_ratio': 0.0020818431323997412,\n",
       "   'sortino_ratio': 0.003104389385115539,\n",
       "   'total_commission': 17.4832,\n",
       "   'max_drawdown': 52.08204197008058,\n",
       "   'equity_with_time':        datetime         equity\n",
       "   0    2022-01-03  100000.000000\n",
       "   1    2022-01-04   99997.079600\n",
       "   2    2022-01-05   98107.814107\n",
       "   3    2022-01-06   98107.814107\n",
       "   4    2022-01-07   98104.859407\n",
       "   ..          ...            ...\n",
       "   496  2023-12-22   89803.957137\n",
       "   497  2023-12-26   89798.110351\n",
       "   498  2023-12-27   89757.156066\n",
       "   499  2023-12-28   89780.561065\n",
       "   500  2023-12-29   88938.159637\n",
       "   \n",
       "   [501 rows x 2 columns]},\n",
       "  'MSFT': {'final_value': 103740.31108808593,\n",
       "   'total_return': 0.037403110880859236,\n",
       "   'annual_return': 0.018641862490976324,\n",
       "   'annual_volatility': 0.02377741168270227,\n",
       "   'sharpe_ratio': -0.4717102288034238,\n",
       "   'sortino_ratio': -442.48492550321413,\n",
       "   'total_commission': 8.8592,\n",
       "   'max_drawdown': 0.0023230167323314422,\n",
       "   'equity_with_time':        datetime         equity\n",
       "   0    2022-01-03  100000.000000\n",
       "   1    2022-01-04  100000.000000\n",
       "   2    2022-01-05  100000.000000\n",
       "   3    2022-01-06  100000.000000\n",
       "   4    2022-01-07  100000.000000\n",
       "   ..          ...            ...\n",
       "   496  2023-12-22  103740.311088\n",
       "   497  2023-12-26  103740.311088\n",
       "   498  2023-12-27  103740.311088\n",
       "   499  2023-12-28  103740.311088\n",
       "   500  2023-12-29  103740.311088\n",
       "   \n",
       "   [501 rows x 2 columns]}}}"
      ]
     },
     "execution_count": 8,
     "metadata": {},
     "output_type": "execute_result"
    }
   ],
   "execution_count": 8
  },
  {
   "metadata": {
    "ExecuteTime": {
     "end_time": "2025-04-03T13:31:35.321468Z",
     "start_time": "2025-04-03T13:31:35.318394Z"
    }
   },
   "cell_type": "code",
   "source": "from backtest.toolkit.metrics import calculate_sortino_ratio",
   "id": "c76baaf58773c193",
   "outputs": [],
   "execution_count": 9
  },
  {
   "metadata": {
    "ExecuteTime": {
     "end_time": "2025-04-03T13:31:49.312547Z",
     "start_time": "2025-04-03T13:31:49.309245Z"
    }
   },
   "cell_type": "code",
   "source": [
    "daily_return = all_data[-2]['2021-01-01_2023-01-01']['MSFT']['equity_with_time']['equity'].pct_change()\n",
    "calculate_sortino_ratio(daily_return, risk_free_rate=0.03)"
   ],
   "id": "dbaede830e253d84",
   "outputs": [
    {
     "data": {
      "text/plain": [
       "-0.9418085099726249"
      ]
     },
     "execution_count": 12,
     "metadata": {},
     "output_type": "execute_result"
    }
   ],
   "execution_count": 12
  },
  {
   "metadata": {
    "ExecuteTime": {
     "end_time": "2025-04-03T13:31:35.381024Z",
     "start_time": "2025-04-03T13:31:35.376139Z"
    }
   },
   "cell_type": "code",
   "source": "all_data[-1]['2022-01-01_2024-01-01']['MSFT']['equity_with_time'].to_csv(\"equity_with_time.csv\")",
   "id": "333f85aa095adc24",
   "outputs": [],
   "execution_count": 11
  }
 ],
 "metadata": {
  "kernelspec": {
   "display_name": "Python 3",
   "language": "python",
   "name": "python3"
  },
  "language_info": {
   "codemirror_mode": {
    "name": "ipython",
    "version": 2
   },
   "file_extension": ".py",
   "mimetype": "text/x-python",
   "name": "python",
   "nbconvert_exporter": "python",
   "pygments_lexer": "ipython2",
   "version": "2.7.6"
  }
 },
 "nbformat": 4,
 "nbformat_minor": 5
}
