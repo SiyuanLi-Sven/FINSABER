{
 "cells": [
  {
   "cell_type": "code",
   "id": "initial_id",
   "metadata": {
    "collapsed": true,
    "ExecuteTime": {
     "end_time": "2025-01-29T16:16:46.365980Z",
     "start_time": "2025-01-29T16:16:44.127133Z"
    }
   },
   "source": [
    "import pandas as pd\n",
    "import numpy as np\n",
    "import matplotlib.pyplot as plt\n",
    "import os\n",
    "from tqdm import tqdm\n",
    "import pickle"
   ],
   "outputs": [],
   "execution_count": 1
  },
  {
   "metadata": {
    "ExecuteTime": {
     "end_time": "2025-01-29T16:17:10.864348Z",
     "start_time": "2025-01-29T16:17:10.862015Z"
    }
   },
   "cell_type": "code",
   "source": [
    "selection_strategy = \"selected_5\"\n",
    "# read all the folders in the selection strategy\n",
    "strategy_names = os.listdir(os.path.join(\"output\", selection_strategy))"
   ],
   "id": "a7438fa2a65251d2",
   "outputs": [],
   "execution_count": 4
  },
  {
   "metadata": {
    "ExecuteTime": {
     "end_time": "2025-01-29T16:17:11.499303Z",
     "start_time": "2025-01-29T16:17:11.434281Z"
    }
   },
   "cell_type": "code",
   "source": [
    "loop = tqdm(strategy_names)\n",
    "for strategy_name in loop:  \n",
    "    if \".\" in strategy_name:\n",
    "        continue\n",
    "    \n",
    "    loop.set_description(f\"Processing {strategy_name}\")\n",
    "    output_file = os.path.join(\"output\", selection_strategy, strategy_name, \"2004-01-01_2024-01-01.pkl\")\n",
    "    with open(output_file, \"rb\") as f:\n",
    "        all_results = pickle.load(f)\n",
    "    # level 0 keys\n",
    "    rolling_windows = all_results.keys()\n",
    "    # level 1 keys\n",
    "    tickers = all_results[list(rolling_windows)[-1]].keys()\n",
    "    \n",
    "    results_df_by_tickers = pd.DataFrame(columns=[\"Period\", \"ticker\", \"annual_return (%)\", \"annual_volatility (%)\", \"sharpe_ratio\", \"sortino_ratio\", \"max_drawdown\"])\n",
    "    \n",
    "    all_ticker_avg_annual_return = 0\n",
    "    all_ticker_avg_annual_volatility = 0\n",
    "    all_ticker_avg_sharpe_ratio = 0\n",
    "    all_ticker_avg_sortino_ratio = 0\n",
    "    all_ticker_avg_max_drawdown = 0\n",
    "    all_ticker_valid_window = 0\n",
    "    \n",
    "    try:\n",
    "        for ticker in tickers:\n",
    "            valid_window = 0\n",
    "            # calculate the average return\n",
    "            avg_annual_return = 0\n",
    "            avg_annual_volatility = 0\n",
    "            avg_sharpe_ratio = 0\n",
    "            avg_sortino_ratio = 0\n",
    "            avg_max_drawdown = 0\n",
    "    \n",
    "            for window in rolling_windows:\n",
    "                if ticker not in all_results[window]:\n",
    "                    continue\n",
    "\n",
    "                avg_annual_return += all_results[window][ticker][\"annual_return\"]\n",
    "                avg_annual_volatility += all_results[window][ticker][\"annual_volatility\"]\n",
    "                avg_sharpe_ratio += all_results[window][ticker][\"sharpe_ratio\"]\n",
    "                avg_sortino_ratio += all_results[window][ticker][\"sortino_ratio\"]\n",
    "                avg_max_drawdown += all_results[window][ticker][\"max_drawdown\"]\n",
    "\n",
    "                all_ticker_avg_annual_return += all_results[window][ticker][\"annual_return\"]\n",
    "                all_ticker_avg_annual_volatility += all_results[window][ticker][\"annual_volatility\"]\n",
    "                all_ticker_avg_sharpe_ratio += all_results[window][ticker][\"sharpe_ratio\"]\n",
    "                all_ticker_avg_sortino_ratio += all_results[window][ticker][\"sortino_ratio\"]\n",
    "                all_ticker_avg_max_drawdown += all_results[window][ticker][\"max_drawdown\"]\n",
    "\n",
    "                # print(\"=\"*10)\n",
    "                # print(all_ticker_avg_sharpe_ratio)\n",
    "                # print(all_results[window][ticker][\"sharpe_ratio\"])\n",
    "                \n",
    "                valid_window += 1\n",
    "                all_ticker_valid_window += 1\n",
    "                \n",
    "                results_df_by_tickers = results_df_by_tickers._append(\n",
    "                    {\n",
    "                        \"Period\": window, \n",
    "                        \"ticker\": ticker, \n",
    "                        \"annual_return (%)\": round(all_results[window][ticker][\"annual_return\"] * 100, 4), \n",
    "                        \"annual_volatility (%)\": round(all_results[window][ticker][\"annual_volatility\"] * 100, 4),\n",
    "                        \"sharpe_ratio\": round(all_results[window][ticker][\"sharpe_ratio\"], 4), \n",
    "                        \"sortino_ratio\": round(all_results[window][ticker][\"sortino_ratio\"], 4),\n",
    "                        \"max_drawdown\": -round(all_results[window][ticker][\"max_drawdown\"], 4),\n",
    "                     }, \n",
    "                    ignore_index=True)\n",
    "        \n",
    "            avg_annual_return /= valid_window\n",
    "            avg_annual_volatility /= valid_window\n",
    "            avg_sharpe_ratio /= valid_window\n",
    "            avg_sortino_ratio /= valid_window\n",
    "            avg_max_drawdown /= valid_window\n",
    "            \n",
    "            results_df_by_tickers = results_df_by_tickers._append(\n",
    "                {\n",
    "                    \"Period\": \"Average\", \n",
    "                    \"ticker\": ticker, \n",
    "                    \"annual_return (%)\": round(avg_annual_return * 100, 4), \n",
    "                    \"annual_volatility (%)\": round(avg_annual_volatility * 100, 4),\n",
    "                    \"sharpe_ratio\": round(avg_sharpe_ratio, 4), \n",
    "                    \"sortino_ratio\": round(avg_sortino_ratio, 4),\n",
    "                    \"max_drawdown\": -round(avg_max_drawdown, 4),\n",
    "                }, \n",
    "                ignore_index=True)\n",
    "            \n",
    "        all_ticker_avg_annual_return /= all_ticker_valid_window\n",
    "        all_ticker_avg_annual_volatility /= all_ticker_valid_window\n",
    "        all_ticker_avg_sharpe_ratio /= all_ticker_valid_window\n",
    "        all_ticker_avg_sortino_ratio /= all_ticker_valid_window\n",
    "        all_ticker_avg_max_drawdown /= all_ticker_valid_window\n",
    "        \n",
    "        results_df_by_tickers = results_df_by_tickers._append(\n",
    "            {\n",
    "                \"Period\": \"Average\", \n",
    "                \"ticker\": \"All\", \n",
    "                \"annual_return (%)\": round(all_ticker_avg_annual_return * 100, 5),\n",
    "                \"annual_volatility (%)\": round(all_ticker_avg_annual_volatility * 100, 5),\n",
    "                \"sharpe_ratio\": round(all_ticker_avg_sharpe_ratio, 5),\n",
    "                \"sortino_ratio\": round(all_ticker_avg_sortino_ratio, 5),\n",
    "                \"max_drawdown\": -round(all_ticker_avg_max_drawdown, 5),\n",
    "            }, \n",
    "            ignore_index=True)\n",
    "        \n",
    "        results_df_by_tickers.to_csv(os.path.join(\"output\", selection_strategy, strategy_name, \"results.csv\"), index=False)\n",
    "    except:\n",
    "        print(f\"Error processing {strategy_name}\")\n",
    "        continue"
   ],
   "id": "2635116c8acb35eb",
   "outputs": [
    {
     "name": "stderr",
     "output_type": "stream",
     "text": [
      "Processing BollingerBandsStrategy:   0%|          | 0/8 [00:00<?, ?it/s]\n"
     ]
    },
    {
     "ename": "FileNotFoundError",
     "evalue": "[Errno 2] No such file or directory: 'output/cherry_pick_both_finmem/BollingerBandsStrategy/2004-01-01_2024-01-01.pkl'",
     "output_type": "error",
     "traceback": [
      "\u001B[0;31m---------------------------------------------------------------------------\u001B[0m",
      "\u001B[0;31mFileNotFoundError\u001B[0m                         Traceback (most recent call last)",
      "Cell \u001B[0;32mIn[5], line 8\u001B[0m\n\u001B[1;32m      6\u001B[0m loop\u001B[38;5;241m.\u001B[39mset_description(\u001B[38;5;124mf\u001B[39m\u001B[38;5;124m\"\u001B[39m\u001B[38;5;124mProcessing \u001B[39m\u001B[38;5;132;01m{\u001B[39;00mstrategy_name\u001B[38;5;132;01m}\u001B[39;00m\u001B[38;5;124m\"\u001B[39m)\n\u001B[1;32m      7\u001B[0m output_file \u001B[38;5;241m=\u001B[39m os\u001B[38;5;241m.\u001B[39mpath\u001B[38;5;241m.\u001B[39mjoin(\u001B[38;5;124m\"\u001B[39m\u001B[38;5;124moutput\u001B[39m\u001B[38;5;124m\"\u001B[39m, selection_strategy, strategy_name, \u001B[38;5;124m\"\u001B[39m\u001B[38;5;124m2004-01-01_2024-01-01.pkl\u001B[39m\u001B[38;5;124m\"\u001B[39m)\n\u001B[0;32m----> 8\u001B[0m \u001B[38;5;28;01mwith\u001B[39;00m \u001B[38;5;28;43mopen\u001B[39;49m\u001B[43m(\u001B[49m\u001B[43moutput_file\u001B[49m\u001B[43m,\u001B[49m\u001B[43m \u001B[49m\u001B[38;5;124;43m\"\u001B[39;49m\u001B[38;5;124;43mrb\u001B[39;49m\u001B[38;5;124;43m\"\u001B[39;49m\u001B[43m)\u001B[49m \u001B[38;5;28;01mas\u001B[39;00m f:\n\u001B[1;32m      9\u001B[0m     all_results \u001B[38;5;241m=\u001B[39m pickle\u001B[38;5;241m.\u001B[39mload(f)\n\u001B[1;32m     10\u001B[0m \u001B[38;5;28mprint\u001B[39m(all_results\u001B[38;5;241m.\u001B[39mkeys())\n",
      "File \u001B[0;32m/Volumes/AccelWorld/opt/anaconda3/envs/trading/lib/python3.10/site-packages/IPython/core/interactiveshell.py:324\u001B[0m, in \u001B[0;36m_modified_open\u001B[0;34m(file, *args, **kwargs)\u001B[0m\n\u001B[1;32m    317\u001B[0m \u001B[38;5;28;01mif\u001B[39;00m file \u001B[38;5;129;01min\u001B[39;00m {\u001B[38;5;241m0\u001B[39m, \u001B[38;5;241m1\u001B[39m, \u001B[38;5;241m2\u001B[39m}:\n\u001B[1;32m    318\u001B[0m     \u001B[38;5;28;01mraise\u001B[39;00m \u001B[38;5;167;01mValueError\u001B[39;00m(\n\u001B[1;32m    319\u001B[0m         \u001B[38;5;124mf\u001B[39m\u001B[38;5;124m\"\u001B[39m\u001B[38;5;124mIPython won\u001B[39m\u001B[38;5;124m'\u001B[39m\u001B[38;5;124mt let you open fd=\u001B[39m\u001B[38;5;132;01m{\u001B[39;00mfile\u001B[38;5;132;01m}\u001B[39;00m\u001B[38;5;124m by default \u001B[39m\u001B[38;5;124m\"\u001B[39m\n\u001B[1;32m    320\u001B[0m         \u001B[38;5;124m\"\u001B[39m\u001B[38;5;124mas it is likely to crash IPython. If you know what you are doing, \u001B[39m\u001B[38;5;124m\"\u001B[39m\n\u001B[1;32m    321\u001B[0m         \u001B[38;5;124m\"\u001B[39m\u001B[38;5;124myou can use builtins\u001B[39m\u001B[38;5;124m'\u001B[39m\u001B[38;5;124m open.\u001B[39m\u001B[38;5;124m\"\u001B[39m\n\u001B[1;32m    322\u001B[0m     )\n\u001B[0;32m--> 324\u001B[0m \u001B[38;5;28;01mreturn\u001B[39;00m \u001B[43mio_open\u001B[49m\u001B[43m(\u001B[49m\u001B[43mfile\u001B[49m\u001B[43m,\u001B[49m\u001B[43m \u001B[49m\u001B[38;5;241;43m*\u001B[39;49m\u001B[43margs\u001B[49m\u001B[43m,\u001B[49m\u001B[43m \u001B[49m\u001B[38;5;241;43m*\u001B[39;49m\u001B[38;5;241;43m*\u001B[39;49m\u001B[43mkwargs\u001B[49m\u001B[43m)\u001B[49m\n",
      "\u001B[0;31mFileNotFoundError\u001B[0m: [Errno 2] No such file or directory: 'output/cherry_pick_both_finmem/BollingerBandsStrategy/2004-01-01_2024-01-01.pkl'"
     ]
    }
   ],
   "execution_count": 5
  },
  {
   "metadata": {
    "ExecuteTime": {
     "end_time": "2024-12-28T01:36:37.410130Z",
     "start_time": "2024-12-28T01:36:37.407258Z"
    }
   },
   "cell_type": "code",
   "source": "print(all_ticker_avg_sharpe_ratio / all_ticker_valid_window)",
   "id": "4c8e2ca66aebdd36",
   "outputs": [
    {
     "name": "stdout",
     "output_type": "stream",
     "text": [
      "-0.0002169851882117176\n"
     ]
    }
   ],
   "execution_count": 10
  },
  {
   "metadata": {},
   "cell_type": "code",
   "outputs": [],
   "execution_count": null,
   "source": "",
   "id": "27e0afefdf40028b"
  }
 ],
 "metadata": {
  "kernelspec": {
   "display_name": "Python 3",
   "language": "python",
   "name": "python3"
  },
  "language_info": {
   "codemirror_mode": {
    "name": "ipython",
    "version": 2
   },
   "file_extension": ".py",
   "mimetype": "text/x-python",
   "name": "python",
   "nbconvert_exporter": "python",
   "pygments_lexer": "ipython2",
   "version": "2.7.6"
  }
 },
 "nbformat": 4,
 "nbformat_minor": 5
}
