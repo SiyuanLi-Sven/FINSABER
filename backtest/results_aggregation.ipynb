{
 "cells": [
  {
   "cell_type": "code",
   "id": "initial_id",
   "metadata": {
    "collapsed": true,
    "ExecuteTime": {
     "end_time": "2024-12-28T01:23:39.946239Z",
     "start_time": "2024-12-28T01:23:38.733143Z"
    }
   },
   "source": [
    "import pandas as pd\n",
    "import numpy as np\n",
    "import matplotlib.pyplot as plt\n",
    "import os\n",
    "from tqdm import tqdm\n",
    "import pickle"
   ],
   "outputs": [],
   "execution_count": 1
  },
  {
   "metadata": {
    "ExecuteTime": {
     "end_time": "2024-12-29T03:30:18.608309Z",
     "start_time": "2024-12-29T03:30:18.587489Z"
    }
   },
   "cell_type": "code",
   "source": [
    "selection_strategy = \"random_50\"\n",
    "# read all the folders in the selection strategy\n",
    "strategy_names = os.listdir(os.path.join(\"output\", selection_strategy))"
   ],
   "id": "a7438fa2a65251d2",
   "outputs": [],
   "execution_count": 16
  },
  {
   "metadata": {
    "ExecuteTime": {
     "end_time": "2024-12-29T03:30:20.584224Z",
     "start_time": "2024-12-29T03:30:18.822028Z"
    }
   },
   "cell_type": "code",
   "source": [
    "loop = tqdm(strategy_names)\n",
    "for strategy_name in loop:  \n",
    "    if \".\" in strategy_name:\n",
    "        continue\n",
    "    \n",
    "    loop.set_description(f\"Processing {strategy_name}\")\n",
    "    output_file = os.path.join(\"output\", selection_strategy, strategy_name, \"2004-01-01_2024-01-01.pkl\")\n",
    "    with open(output_file, \"rb\") as f:\n",
    "        all_results = pickle.load(f)\n",
    "    \n",
    "    # level 0 keys\n",
    "    rolling_windows = all_results.keys()\n",
    "    # level 1 keys\n",
    "    tickers = all_results[list(rolling_windows)[-1]].keys()\n",
    "    \n",
    "    results_df_by_tickers = pd.DataFrame(columns=[\"Period\", \"ticker\", \"annual_return (%)\", \"annual_volatility (%)\", \"sharpe_ratio\", \"sortino_ratio\", \"max_drawdown\"])\n",
    "    \n",
    "    all_ticker_avg_annual_return = 0\n",
    "    all_ticker_avg_annual_volatility = 0\n",
    "    all_ticker_avg_sharpe_ratio = 0\n",
    "    all_ticker_avg_sortino_ratio = 0\n",
    "    all_ticker_avg_max_drawdown = 0\n",
    "    all_ticker_valid_window = 0\n",
    "    \n",
    "    try:\n",
    "        for ticker in tickers:\n",
    "            valid_window = 0\n",
    "            # calculate the average return\n",
    "            avg_annual_return = 0\n",
    "            avg_annual_volatility = 0\n",
    "            avg_sharpe_ratio = 0\n",
    "            avg_sortino_ratio = 0\n",
    "            avg_max_drawdown = 0\n",
    "    \n",
    "            for window in rolling_windows:\n",
    "                if ticker not in all_results[window]:\n",
    "                    continue\n",
    "\n",
    "                avg_annual_return += all_results[window][ticker][\"annual_return\"]\n",
    "                avg_annual_volatility += all_results[window][ticker][\"annual_volatility\"]\n",
    "                avg_sharpe_ratio += all_results[window][ticker][\"sharpe_ratio\"]\n",
    "                avg_sortino_ratio += all_results[window][ticker][\"sortino_ratio\"]\n",
    "                avg_max_drawdown += all_results[window][ticker][\"max_drawdown\"]\n",
    "\n",
    "                all_ticker_avg_annual_return += all_results[window][ticker][\"annual_return\"]\n",
    "                all_ticker_avg_annual_volatility += all_results[window][ticker][\"annual_volatility\"]\n",
    "                all_ticker_avg_sharpe_ratio += all_results[window][ticker][\"sharpe_ratio\"]\n",
    "                all_ticker_avg_sortino_ratio += all_results[window][ticker][\"sortino_ratio\"]\n",
    "                all_ticker_avg_max_drawdown += all_results[window][ticker][\"max_drawdown\"]\n",
    "\n",
    "                # print(\"=\"*10)\n",
    "                # print(all_ticker_avg_sharpe_ratio)\n",
    "                # print(all_results[window][ticker][\"sharpe_ratio\"])\n",
    "                \n",
    "                valid_window += 1\n",
    "                all_ticker_valid_window += 1\n",
    "                \n",
    "                results_df_by_tickers = results_df_by_tickers._append(\n",
    "                    {\n",
    "                        \"Period\": window, \n",
    "                        \"ticker\": ticker, \n",
    "                        \"annual_return (%)\": round(all_results[window][ticker][\"annual_return\"] * 100, 4), \n",
    "                        \"annual_volatility (%)\": round(all_results[window][ticker][\"annual_volatility\"] * 100, 4),\n",
    "                        \"sharpe_ratio\": round(all_results[window][ticker][\"sharpe_ratio\"], 4), \n",
    "                        \"sortino_ratio\": round(all_results[window][ticker][\"sortino_ratio\"], 4),\n",
    "                        \"max_drawdown\": -round(all_results[window][ticker][\"max_drawdown\"], 4),\n",
    "                     }, \n",
    "                    ignore_index=True)\n",
    "        \n",
    "            avg_annual_return /= valid_window\n",
    "            avg_annual_volatility /= valid_window\n",
    "            avg_sharpe_ratio /= valid_window\n",
    "            avg_sortino_ratio /= valid_window\n",
    "            avg_max_drawdown /= valid_window\n",
    "            \n",
    "            results_df_by_tickers = results_df_by_tickers._append(\n",
    "                {\n",
    "                    \"Period\": \"Average\", \n",
    "                    \"ticker\": ticker, \n",
    "                    \"annual_return (%)\": round(avg_annual_return * 100, 4), \n",
    "                    \"annual_volatility (%)\": round(avg_annual_volatility * 100, 4),\n",
    "                    \"sharpe_ratio\": round(avg_sharpe_ratio, 4), \n",
    "                    \"sortino_ratio\": round(avg_sortino_ratio, 4),\n",
    "                    \"max_drawdown\": -round(avg_max_drawdown, 4),\n",
    "                }, \n",
    "                ignore_index=True)\n",
    "            \n",
    "        all_ticker_avg_annual_return /= all_ticker_valid_window\n",
    "        all_ticker_avg_annual_volatility /= all_ticker_valid_window\n",
    "        all_ticker_avg_sharpe_ratio /= all_ticker_valid_window\n",
    "        all_ticker_avg_sortino_ratio /= all_ticker_valid_window\n",
    "        all_ticker_avg_max_drawdown /= all_ticker_valid_window\n",
    "        \n",
    "        results_df_by_tickers = results_df_by_tickers._append(\n",
    "            {\n",
    "                \"Period\": \"Average\", \n",
    "                \"ticker\": \"All\", \n",
    "                \"annual_return (%)\": round(all_ticker_avg_annual_return * 100, 5),\n",
    "                \"annual_volatility (%)\": round(all_ticker_avg_annual_volatility * 100, 5),\n",
    "                \"sharpe_ratio\": round(all_ticker_avg_sharpe_ratio, 5),\n",
    "                \"sortino_ratio\": round(all_ticker_avg_sortino_ratio, 5),\n",
    "                \"max_drawdown\": -round(all_ticker_avg_max_drawdown, 5),\n",
    "            }, \n",
    "            ignore_index=True)\n",
    "        \n",
    "        results_df_by_tickers.to_csv(os.path.join(\"output\", selection_strategy, strategy_name, \"results.csv\"), index=False)\n",
    "    except:\n",
    "        print(f\"Error processing {strategy_name}\")\n",
    "        continue"
   ],
   "id": "2635116c8acb35eb",
   "outputs": [
    {
     "name": "stderr",
     "output_type": "stream",
     "text": [
      "Processing XGBoostPredictorStrategy: 100%|██████████| 5/5 [00:01<00:00,  2.86it/s]\n"
     ]
    }
   ],
   "execution_count": 17
  },
  {
   "metadata": {
    "ExecuteTime": {
     "end_time": "2024-12-28T01:36:37.410130Z",
     "start_time": "2024-12-28T01:36:37.407258Z"
    }
   },
   "cell_type": "code",
   "source": "print(all_ticker_avg_sharpe_ratio / all_ticker_valid_window)",
   "id": "4c8e2ca66aebdd36",
   "outputs": [
    {
     "name": "stdout",
     "output_type": "stream",
     "text": [
      "-0.0002169851882117176\n"
     ]
    }
   ],
   "execution_count": 10
  },
  {
   "metadata": {},
   "cell_type": "code",
   "outputs": [],
   "execution_count": null,
   "source": "",
   "id": "27e0afefdf40028b"
  }
 ],
 "metadata": {
  "kernelspec": {
   "display_name": "Python 3",
   "language": "python",
   "name": "python3"
  },
  "language_info": {
   "codemirror_mode": {
    "name": "ipython",
    "version": 2
   },
   "file_extension": ".py",
   "mimetype": "text/x-python",
   "name": "python",
   "nbconvert_exporter": "python",
   "pygments_lexer": "ipython2",
   "version": "2.7.6"
  }
 },
 "nbformat": 4,
 "nbformat_minor": 5
}
