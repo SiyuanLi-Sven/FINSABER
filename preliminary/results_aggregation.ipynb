{
 "cells": [
  {
   "cell_type": "code",
   "id": "initial_id",
   "metadata": {
    "collapsed": true,
    "ExecuteTime": {
     "end_time": "2024-10-28T16:30:02.965680Z",
     "start_time": "2024-10-28T16:30:02.958272Z"
    }
   },
   "source": [
    "import pandas as pd\n",
    "import numpy as np\n",
    "import matplotlib.pyplot as plt\n",
    "import os\n",
    "from tqdm import tqdm\n",
    "import pickle"
   ],
   "outputs": [],
   "execution_count": 5
  },
  {
   "metadata": {
    "ExecuteTime": {
     "end_time": "2024-10-28T16:30:03.000530Z",
     "start_time": "2024-10-28T16:30:02.996857Z"
    }
   },
   "cell_type": "code",
   "source": [
    "selection_strategy = \"selected_5\"\n",
    "# read all the folders in the selection strategy\n",
    "strategy_names = os.listdir(os.path.join(\"output\", selection_strategy))"
   ],
   "id": "a7438fa2a65251d2",
   "outputs": [],
   "execution_count": 6
  },
  {
   "metadata": {
    "ExecuteTime": {
     "end_time": "2024-10-28T16:30:03.043020Z",
     "start_time": "2024-10-28T16:30:03.032090Z"
    }
   },
   "cell_type": "code",
   "source": [
    "output_file = os.path.join(\"output\", \"selected_5\", \"BuyAndHoldStrategy\", \"2004-01-01_2024-01-01.pkl\")\n",
    "with open(output_file, \"rb\") as f:\n",
    "    all_results = pickle.load(f)"
   ],
   "id": "4ea6008e8301f049",
   "outputs": [],
   "execution_count": 7
  },
  {
   "metadata": {
    "ExecuteTime": {
     "end_time": "2024-10-28T16:30:03.230291Z",
     "start_time": "2024-10-28T16:30:03.049456Z"
    }
   },
   "cell_type": "code",
   "source": [
    "loop = tqdm(strategy_names)\n",
    "for strategy_name in loop:  \n",
    "    loop.set_description(f\"Processing {strategy_name}\")\n",
    "    output_file = os.path.join(\"output\", selection_strategy, strategy_name, \"2004-01-01_2024-01-01.pkl\")\n",
    "    with open(output_file, \"rb\") as f:\n",
    "        all_results = pickle.load(f)\n",
    "    # calculate the average return\n",
    "    avg_annual_return = 0\n",
    "    avg_annual_volatility = 0\n",
    "    avg_sharpe_ratio = 0\n",
    "    avg_max_drawdown = 0\n",
    "    \n",
    "    # level 0 keys\n",
    "    rolling_windows = all_results.keys()\n",
    "    # level 1 keys\n",
    "    tickers = all_results[list(rolling_windows)[-1]].keys()\n",
    "    \n",
    "    results_df_by_tickers = pd.DataFrame(columns=[\"Period\", \"ticker\", \"annual_return (%)\", \"annual_volatility (%)\", \"sharpe_ratio\", \"max_drawdown\"])\n",
    "    \n",
    "    for ticker in tickers:\n",
    "        valid_window = 0\n",
    "        for window in rolling_windows:\n",
    "            if ticker not in all_results[window]:\n",
    "                continue\n",
    "            avg_annual_return += all_results[window][ticker][\"annual_return\"]\n",
    "            avg_annual_volatility += all_results[window][ticker][\"annual_volatility\"]\n",
    "            avg_sharpe_ratio += all_results[window][ticker][\"sharpe_ratio\"]\n",
    "            avg_max_drawdown += all_results[window][ticker][\"max_drawdown\"]\n",
    "            valid_window += 1\n",
    "            results_df_by_tickers = results_df_by_tickers._append(\n",
    "                {\n",
    "                    \"Period\": window, \n",
    "                    \"ticker\": ticker, \n",
    "                    \"annual_return (%)\": round(all_results[window][ticker][\"annual_return\"] * 100, 4), \n",
    "                    \"annual_volatility (%)\": round(all_results[window][ticker][\"annual_volatility\"] * 100, 4),\n",
    "                    \"sharpe_ratio\": round(all_results[window][ticker][\"sharpe_ratio\"], 4), \n",
    "                    \"max_drawdown\": round(all_results[window][ticker][\"max_drawdown\"], 4),\n",
    "                 }, \n",
    "                ignore_index=True)\n",
    "    \n",
    "        avg_annual_return /= valid_window\n",
    "        avg_annual_volatility /= valid_window\n",
    "        avg_sharpe_ratio /= valid_window\n",
    "        avg_max_drawdown /= valid_window\n",
    "        \n",
    "        results_df_by_tickers = results_df_by_tickers._append(\n",
    "            {\n",
    "                \"Period\": \"Average\", \n",
    "                \"ticker\": ticker, \n",
    "                \"annual_return (%)\": round(avg_annual_return * 100, 4), \n",
    "                \"annual_volatility (%)\": round(avg_annual_volatility * 100, 4),\n",
    "                \"sharpe_ratio\": round(avg_sharpe_ratio, 4), \n",
    "                \"max_drawdown\": round(avg_max_drawdown, 4),\n",
    "            }, \n",
    "            ignore_index=True)\n",
    "    \n",
    "    results_df_by_tickers.to_csv(os.path.join(\"output\", selection_strategy, strategy_name, \"results.csv\"), index=False)"
   ],
   "id": "2635116c8acb35eb",
   "outputs": [
    {
     "name": "stderr",
     "output_type": "stream",
     "text": [
      "Processing WMAStrategy: 100%|██████████| 5/5 [00:00<00:00, 28.88it/s]           \n"
     ]
    }
   ],
   "execution_count": 8
  },
  {
   "metadata": {
    "ExecuteTime": {
     "end_time": "2024-10-28T16:30:03.244551Z",
     "start_time": "2024-10-28T16:30:03.240683Z"
    }
   },
   "cell_type": "code",
   "source": "",
   "id": "4c8e2ca66aebdd36",
   "outputs": [],
   "execution_count": null
  }
 ],
 "metadata": {
  "kernelspec": {
   "display_name": "Python 3",
   "language": "python",
   "name": "python3"
  },
  "language_info": {
   "codemirror_mode": {
    "name": "ipython",
    "version": 2
   },
   "file_extension": ".py",
   "mimetype": "text/x-python",
   "name": "python",
   "nbconvert_exporter": "python",
   "pygments_lexer": "ipython2",
   "version": "2.7.6"
  }
 },
 "nbformat": 4,
 "nbformat_minor": 5
}
