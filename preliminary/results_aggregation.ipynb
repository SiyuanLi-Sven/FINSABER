{
 "cells": [
  {
   "cell_type": "code",
   "id": "initial_id",
   "metadata": {
    "collapsed": true,
    "ExecuteTime": {
     "end_time": "2024-10-02T14:50:25.048706Z",
     "start_time": "2024-10-02T14:50:23.134477Z"
    }
   },
   "source": [
    "import pandas as pd\n",
    "import numpy as np\n",
    "import matplotlib.pyplot as plt\n",
    "import os\n",
    "import pickle"
   ],
   "outputs": [],
   "execution_count": 1
  },
  {
   "metadata": {
    "ExecuteTime": {
     "end_time": "2024-10-02T20:21:56.176700Z",
     "start_time": "2024-10-02T20:21:56.140834Z"
    }
   },
   "cell_type": "code",
   "source": [
    "strategy_type = \"timing\"\n",
    "strategy_name = \"WMAStrategy\"\n",
    "output_file = os.path.join(\"output\", strategy_type, strategy_name, \"2004-01-01_2024-01-01.pkl\")\n",
    "with open(output_file, \"rb\") as f:\n",
    "    all_results = pickle.load(f)"
   ],
   "id": "a7438fa2a65251d2",
   "outputs": [],
   "execution_count": 16
  },
  {
   "metadata": {
    "ExecuteTime": {
     "end_time": "2024-10-02T20:21:56.692847Z",
     "start_time": "2024-10-02T20:21:56.631321Z"
    }
   },
   "cell_type": "code",
   "source": [
    "# calculate the average return\n",
    "avg_annual_return = 0\n",
    "avg_sharpe_ratio = 0\n",
    "avg_annual_volatility = 0\n",
    "avg_max_drawdown = 0\n",
    "\n",
    "# level 0 keys\n",
    "rolling_windows = all_results.keys()\n",
    "# level 1 keys\n",
    "tickers = all_results[list(rolling_windows)[0]].keys()\n",
    "\n",
    "results_df_by_tickers = pd.DataFrame(columns=[\"Period\", \"ticker\", \"annual_return\", \"sharpe_ratio\", \"annual_volatility\", \"max_drawdown\"])\n",
    "\n",
    "for ticker in tickers:\n",
    "    for window in rolling_windows:\n",
    "        avg_annual_return += all_results[window][ticker][\"annual_return\"]\n",
    "        avg_sharpe_ratio += all_results[window][ticker][\"sharpe_ratio\"]\n",
    "        avg_annual_volatility += all_results[window][ticker][\"annual_volatility\"]\n",
    "        avg_max_drawdown += all_results[window][ticker][\"max_drawdown\"]\n",
    "        results_df_by_tickers = results_df_by_tickers._append({\"Period\": window, \"ticker\": ticker, \"annual_return\": all_results[window][ticker][\"annual_return\"], \"sharpe_ratio\": all_results[window][ticker][\"sharpe_ratio\"], \"annual_volatility\": all_results[window][ticker][\"annual_volatility\"], \"max_drawdown\": all_results[window][ticker][\"max_drawdown\"]}, ignore_index=True)\n",
    "\n",
    "    avg_annual_return /= len(rolling_windows)\n",
    "    avg_sharpe_ratio /= len(rolling_windows)\n",
    "    avg_annual_volatility /= len(rolling_windows)\n",
    "    avg_max_drawdown /= len(rolling_windows)\n",
    "    \n",
    "    results_df_by_tickers = results_df_by_tickers._append({\"Period\": \"Average\", \"ticker\": ticker, \"annual_return\": avg_annual_return, \"sharpe_ratio\": avg_sharpe_ratio, \"annual_volatility\": avg_annual_volatility, \"max_drawdown\": avg_max_drawdown}, ignore_index=True)"
   ],
   "id": "2635116c8acb35eb",
   "outputs": [
    {
     "name": "stderr",
     "output_type": "stream",
     "text": [
      "/var/folders/07/x2w_c3y1707gvzfy_69bydyc0000gn/T/ipykernel_9203/3159752964.py:20: FutureWarning: The behavior of DataFrame concatenation with empty or all-NA entries is deprecated. In a future version, this will no longer exclude empty or all-NA columns when determining the result dtypes. To retain the old behavior, exclude the relevant entries before the concat operation.\n",
      "  results_df_by_tickers = results_df_by_tickers._append({\"Period\": window, \"ticker\": ticker, \"annual_return\": all_results[window][ticker][\"annual_return\"], \"sharpe_ratio\": all_results[window][ticker][\"sharpe_ratio\"], \"annual_volatility\": all_results[window][ticker][\"annual_volatility\"], \"max_drawdown\": all_results[window][ticker][\"max_drawdown\"]}, ignore_index=True)\n"
     ]
    }
   ],
   "execution_count": 17
  },
  {
   "metadata": {
    "ExecuteTime": {
     "end_time": "2024-10-02T20:21:57.630113Z",
     "start_time": "2024-10-02T20:21:57.618530Z"
    }
   },
   "cell_type": "code",
   "source": "results_df_by_tickers.to_csv(os.path.join(\"output\", strategy_type, strategy_name, \"results.csv\"), index=False)",
   "id": "4c8e2ca66aebdd36",
   "outputs": [],
   "execution_count": 18
  },
  {
   "metadata": {
    "ExecuteTime": {
     "end_time": "2024-10-01T13:19:09.610085Z",
     "start_time": "2024-10-01T13:19:09.588709Z"
    }
   },
   "cell_type": "code",
   "source": [
    "strategy_type = \"selection\"\n",
    "strategy_name = \"TrendFollowingStrategy\"\n",
    "output_file = os.path.join(\"output\", strategy_type, strategy_name, \"2004-01-01_2024-01-01.pkl\")\n",
    "with open(output_file, \"rb\") as f:\n",
    "    all_results = pickle.load(f)"
   ],
   "id": "1eff52746ba28c41",
   "outputs": [],
   "execution_count": 33
  },
  {
   "metadata": {
    "ExecuteTime": {
     "end_time": "2024-10-01T13:19:09.978669Z",
     "start_time": "2024-10-01T13:19:09.947182Z"
    }
   },
   "cell_type": "code",
   "source": [
    "avg_annual_return = 0\n",
    "avg_sharpe_ratio = 0\n",
    "avg_annual_volatility = 0\n",
    "avg_max_drawdown = 0\n",
    "\n",
    "# level 0 keys\n",
    "rolling_windows = all_results.keys()\n",
    "\n",
    "results_df = pd.DataFrame(columns=[\"Period\", \"annual_return\", \"sharpe_ratio\", \"annual_volatility\", \"max_drawdown\"])\n",
    "\n",
    "for window in rolling_windows:\n",
    "    avg_annual_return += all_results[window][\"annual_return\"]\n",
    "    avg_sharpe_ratio += all_results[window][\"sharpe_ratio\"]\n",
    "    avg_annual_volatility += all_results[window][\"annual_volatility\"]\n",
    "    avg_max_drawdown += all_results[window][\"max_drawdown\"]\n",
    "    results_df = results_df._append({\"Period\": window, \"annual_return\": all_results[window][\"annual_return\"], \"sharpe_ratio\": all_results[window][\"sharpe_ratio\"], \"annual_volatility\": all_results[window][\"annual_volatility\"], \"max_drawdown\": all_results[window][\"max_drawdown\"]}, ignore_index=True)\n",
    "\n",
    "avg_annual_return /= len(rolling_windows)\n",
    "avg_sharpe_ratio /= len(rolling_windows)\n",
    "avg_annual_volatility /= len(rolling_windows)\n",
    "avg_max_drawdown /= len(rolling_windows)\n",
    "\n",
    "results_df = results_df._append({\"Period\": \"Average\", \"annual_return\": avg_annual_return, \"sharpe_ratio\": avg_sharpe_ratio, \"annual_volatility\": avg_annual_volatility, \"max_drawdown\": avg_max_drawdown}, ignore_index=True)"
   ],
   "id": "d1f5323f566b8bcc",
   "outputs": [
    {
     "name": "stderr",
     "output_type": "stream",
     "text": [
      "/var/folders/07/x2w_c3y1707gvzfy_69bydyc0000gn/T/ipykernel_90602/2373360147.py:16: FutureWarning: The behavior of DataFrame concatenation with empty or all-NA entries is deprecated. In a future version, this will no longer exclude empty or all-NA columns when determining the result dtypes. To retain the old behavior, exclude the relevant entries before the concat operation.\n",
      "  results_df = results_df._append({\"Period\": window, \"annual_return\": all_results[window][\"annual_return\"], \"sharpe_ratio\": all_results[window][\"sharpe_ratio\"], \"annual_volatility\": all_results[window][\"annual_volatility\"], \"max_drawdown\": all_results[window][\"max_drawdown\"]}, ignore_index=True)\n"
     ]
    }
   ],
   "execution_count": 34
  },
  {
   "metadata": {
    "ExecuteTime": {
     "end_time": "2024-10-01T13:19:10.617471Z",
     "start_time": "2024-10-01T13:19:10.612034Z"
    }
   },
   "cell_type": "code",
   "source": "results_df.to_csv(os.path.join(\"output\", strategy_type, strategy_name, \"results.csv\"), index=False)",
   "id": "f310f0173530fe8b",
   "outputs": [],
   "execution_count": 35
  },
  {
   "metadata": {},
   "cell_type": "code",
   "outputs": [],
   "execution_count": null,
   "source": "",
   "id": "93092a5422cec3a1"
  }
 ],
 "metadata": {
  "kernelspec": {
   "display_name": "Python 3",
   "language": "python",
   "name": "python3"
  },
  "language_info": {
   "codemirror_mode": {
    "name": "ipython",
    "version": 2
   },
   "file_extension": ".py",
   "mimetype": "text/x-python",
   "name": "python",
   "nbconvert_exporter": "python",
   "pygments_lexer": "ipython2",
   "version": "2.7.6"
  }
 },
 "nbformat": 4,
 "nbformat_minor": 5
}
